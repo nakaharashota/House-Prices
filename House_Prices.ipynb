{
 "cells": [
  {
   "cell_type": "markdown",
   "metadata": {},
   "source": [
    "# House Prices: Advanced Regression Techniques"
   ]
  },
  {
   "cell_type": "code",
   "execution_count": 1,
   "metadata": {
    "scrolled": true
   },
   "outputs": [
    {
     "name": "stderr",
     "output_type": "stream",
     "text": [
      "/Users/shota/anaconda3/lib/python3.6/site-packages/sklearn/cross_validation.py:41: DeprecationWarning: This module was deprecated in version 0.18 in favor of the model_selection module into which all the refactored classes and functions are moved. Also note that the interface of the new CV iterators are different from that of this module. This module will be removed in 0.20.\n",
      "  \"This module will be removed in 0.20.\", DeprecationWarning)\n",
      "/Users/shota/anaconda3/lib/python3.6/site-packages/sklearn/grid_search.py:42: DeprecationWarning: This module was deprecated in version 0.18 in favor of the model_selection module into which all the refactored classes and functions are moved. This module will be removed in 0.20.\n",
      "  DeprecationWarning)\n"
     ]
    }
   ],
   "source": [
    "% matplotlib inline\n",
    "\n",
    "from __future__ import print_function\n",
    "\n",
    "import copy\n",
    "import matplotlib\n",
    "import matplotlib.pyplot as plt\n",
    "import numpy as np\n",
    "import pandas as pd\n",
    "import seaborn as sns\n",
    "from scipy.stats import spearmanr\n",
    "from sklearn.cross_validation import train_test_split, KFold\n",
    "from sklearn.metrics import mean_squared_error\n",
    "from sklearn.preprocessing import LabelEncoder\n",
    "from sklearn.grid_search import GridSearchCV\n"
   ]
  },
  {
   "cell_type": "markdown",
   "metadata": {},
   "source": [
    "# データの読み込み"
   ]
  },
  {
   "cell_type": "code",
   "execution_count": 2,
   "metadata": {
    "collapsed": true
   },
   "outputs": [],
   "source": [
    "train_data = pd.read_csv(\"train.csv\")\n",
    "test_data = pd.read_csv(\"test.csv\")"
   ]
  },
  {
   "cell_type": "code",
   "execution_count": 3,
   "metadata": {
    "scrolled": true
   },
   "outputs": [
    {
     "data": {
      "text/html": [
       "<div>\n",
       "<style>\n",
       "    .dataframe thead tr:only-child th {\n",
       "        text-align: right;\n",
       "    }\n",
       "\n",
       "    .dataframe thead th {\n",
       "        text-align: left;\n",
       "    }\n",
       "\n",
       "    .dataframe tbody tr th {\n",
       "        vertical-align: top;\n",
       "    }\n",
       "</style>\n",
       "<table border=\"1\" class=\"dataframe\">\n",
       "  <thead>\n",
       "    <tr style=\"text-align: right;\">\n",
       "      <th></th>\n",
       "      <th>Id</th>\n",
       "      <th>MSSubClass</th>\n",
       "      <th>MSZoning</th>\n",
       "      <th>LotFrontage</th>\n",
       "      <th>LotArea</th>\n",
       "      <th>Street</th>\n",
       "      <th>Alley</th>\n",
       "      <th>LotShape</th>\n",
       "      <th>LandContour</th>\n",
       "      <th>Utilities</th>\n",
       "      <th>...</th>\n",
       "      <th>PoolArea</th>\n",
       "      <th>PoolQC</th>\n",
       "      <th>Fence</th>\n",
       "      <th>MiscFeature</th>\n",
       "      <th>MiscVal</th>\n",
       "      <th>MoSold</th>\n",
       "      <th>YrSold</th>\n",
       "      <th>SaleType</th>\n",
       "      <th>SaleCondition</th>\n",
       "      <th>SalePrice</th>\n",
       "    </tr>\n",
       "  </thead>\n",
       "  <tbody>\n",
       "    <tr>\n",
       "      <th>0</th>\n",
       "      <td>1</td>\n",
       "      <td>60</td>\n",
       "      <td>RL</td>\n",
       "      <td>65.0</td>\n",
       "      <td>8450</td>\n",
       "      <td>Pave</td>\n",
       "      <td>NaN</td>\n",
       "      <td>Reg</td>\n",
       "      <td>Lvl</td>\n",
       "      <td>AllPub</td>\n",
       "      <td>...</td>\n",
       "      <td>0</td>\n",
       "      <td>NaN</td>\n",
       "      <td>NaN</td>\n",
       "      <td>NaN</td>\n",
       "      <td>0</td>\n",
       "      <td>2</td>\n",
       "      <td>2008</td>\n",
       "      <td>WD</td>\n",
       "      <td>Normal</td>\n",
       "      <td>208500</td>\n",
       "    </tr>\n",
       "    <tr>\n",
       "      <th>1</th>\n",
       "      <td>2</td>\n",
       "      <td>20</td>\n",
       "      <td>RL</td>\n",
       "      <td>80.0</td>\n",
       "      <td>9600</td>\n",
       "      <td>Pave</td>\n",
       "      <td>NaN</td>\n",
       "      <td>Reg</td>\n",
       "      <td>Lvl</td>\n",
       "      <td>AllPub</td>\n",
       "      <td>...</td>\n",
       "      <td>0</td>\n",
       "      <td>NaN</td>\n",
       "      <td>NaN</td>\n",
       "      <td>NaN</td>\n",
       "      <td>0</td>\n",
       "      <td>5</td>\n",
       "      <td>2007</td>\n",
       "      <td>WD</td>\n",
       "      <td>Normal</td>\n",
       "      <td>181500</td>\n",
       "    </tr>\n",
       "    <tr>\n",
       "      <th>2</th>\n",
       "      <td>3</td>\n",
       "      <td>60</td>\n",
       "      <td>RL</td>\n",
       "      <td>68.0</td>\n",
       "      <td>11250</td>\n",
       "      <td>Pave</td>\n",
       "      <td>NaN</td>\n",
       "      <td>IR1</td>\n",
       "      <td>Lvl</td>\n",
       "      <td>AllPub</td>\n",
       "      <td>...</td>\n",
       "      <td>0</td>\n",
       "      <td>NaN</td>\n",
       "      <td>NaN</td>\n",
       "      <td>NaN</td>\n",
       "      <td>0</td>\n",
       "      <td>9</td>\n",
       "      <td>2008</td>\n",
       "      <td>WD</td>\n",
       "      <td>Normal</td>\n",
       "      <td>223500</td>\n",
       "    </tr>\n",
       "    <tr>\n",
       "      <th>3</th>\n",
       "      <td>4</td>\n",
       "      <td>70</td>\n",
       "      <td>RL</td>\n",
       "      <td>60.0</td>\n",
       "      <td>9550</td>\n",
       "      <td>Pave</td>\n",
       "      <td>NaN</td>\n",
       "      <td>IR1</td>\n",
       "      <td>Lvl</td>\n",
       "      <td>AllPub</td>\n",
       "      <td>...</td>\n",
       "      <td>0</td>\n",
       "      <td>NaN</td>\n",
       "      <td>NaN</td>\n",
       "      <td>NaN</td>\n",
       "      <td>0</td>\n",
       "      <td>2</td>\n",
       "      <td>2006</td>\n",
       "      <td>WD</td>\n",
       "      <td>Abnorml</td>\n",
       "      <td>140000</td>\n",
       "    </tr>\n",
       "    <tr>\n",
       "      <th>4</th>\n",
       "      <td>5</td>\n",
       "      <td>60</td>\n",
       "      <td>RL</td>\n",
       "      <td>84.0</td>\n",
       "      <td>14260</td>\n",
       "      <td>Pave</td>\n",
       "      <td>NaN</td>\n",
       "      <td>IR1</td>\n",
       "      <td>Lvl</td>\n",
       "      <td>AllPub</td>\n",
       "      <td>...</td>\n",
       "      <td>0</td>\n",
       "      <td>NaN</td>\n",
       "      <td>NaN</td>\n",
       "      <td>NaN</td>\n",
       "      <td>0</td>\n",
       "      <td>12</td>\n",
       "      <td>2008</td>\n",
       "      <td>WD</td>\n",
       "      <td>Normal</td>\n",
       "      <td>250000</td>\n",
       "    </tr>\n",
       "  </tbody>\n",
       "</table>\n",
       "<p>5 rows × 81 columns</p>\n",
       "</div>"
      ],
      "text/plain": [
       "   Id  MSSubClass MSZoning  LotFrontage  LotArea Street Alley LotShape  \\\n",
       "0   1          60       RL         65.0     8450   Pave   NaN      Reg   \n",
       "1   2          20       RL         80.0     9600   Pave   NaN      Reg   \n",
       "2   3          60       RL         68.0    11250   Pave   NaN      IR1   \n",
       "3   4          70       RL         60.0     9550   Pave   NaN      IR1   \n",
       "4   5          60       RL         84.0    14260   Pave   NaN      IR1   \n",
       "\n",
       "  LandContour Utilities    ...     PoolArea PoolQC Fence MiscFeature MiscVal  \\\n",
       "0         Lvl    AllPub    ...            0    NaN   NaN         NaN       0   \n",
       "1         Lvl    AllPub    ...            0    NaN   NaN         NaN       0   \n",
       "2         Lvl    AllPub    ...            0    NaN   NaN         NaN       0   \n",
       "3         Lvl    AllPub    ...            0    NaN   NaN         NaN       0   \n",
       "4         Lvl    AllPub    ...            0    NaN   NaN         NaN       0   \n",
       "\n",
       "  MoSold YrSold  SaleType  SaleCondition  SalePrice  \n",
       "0      2   2008        WD         Normal     208500  \n",
       "1      5   2007        WD         Normal     181500  \n",
       "2      9   2008        WD         Normal     223500  \n",
       "3      2   2006        WD        Abnorml     140000  \n",
       "4     12   2008        WD         Normal     250000  \n",
       "\n",
       "[5 rows x 81 columns]"
      ]
     },
     "execution_count": 3,
     "metadata": {},
     "output_type": "execute_result"
    }
   ],
   "source": [
    "train_data.head()"
   ]
  },
  {
   "cell_type": "code",
   "execution_count": 4,
   "metadata": {},
   "outputs": [
    {
     "data": {
      "text/html": [
       "<div>\n",
       "<style>\n",
       "    .dataframe thead tr:only-child th {\n",
       "        text-align: right;\n",
       "    }\n",
       "\n",
       "    .dataframe thead th {\n",
       "        text-align: left;\n",
       "    }\n",
       "\n",
       "    .dataframe tbody tr th {\n",
       "        vertical-align: top;\n",
       "    }\n",
       "</style>\n",
       "<table border=\"1\" class=\"dataframe\">\n",
       "  <thead>\n",
       "    <tr style=\"text-align: right;\">\n",
       "      <th></th>\n",
       "      <th>Id</th>\n",
       "      <th>MSSubClass</th>\n",
       "      <th>MSZoning</th>\n",
       "      <th>LotFrontage</th>\n",
       "      <th>LotArea</th>\n",
       "      <th>Street</th>\n",
       "      <th>Alley</th>\n",
       "      <th>LotShape</th>\n",
       "      <th>LandContour</th>\n",
       "      <th>Utilities</th>\n",
       "      <th>...</th>\n",
       "      <th>ScreenPorch</th>\n",
       "      <th>PoolArea</th>\n",
       "      <th>PoolQC</th>\n",
       "      <th>Fence</th>\n",
       "      <th>MiscFeature</th>\n",
       "      <th>MiscVal</th>\n",
       "      <th>MoSold</th>\n",
       "      <th>YrSold</th>\n",
       "      <th>SaleType</th>\n",
       "      <th>SaleCondition</th>\n",
       "    </tr>\n",
       "  </thead>\n",
       "  <tbody>\n",
       "    <tr>\n",
       "      <th>0</th>\n",
       "      <td>1461</td>\n",
       "      <td>20</td>\n",
       "      <td>RH</td>\n",
       "      <td>80.0</td>\n",
       "      <td>11622</td>\n",
       "      <td>Pave</td>\n",
       "      <td>NaN</td>\n",
       "      <td>Reg</td>\n",
       "      <td>Lvl</td>\n",
       "      <td>AllPub</td>\n",
       "      <td>...</td>\n",
       "      <td>120</td>\n",
       "      <td>0</td>\n",
       "      <td>NaN</td>\n",
       "      <td>MnPrv</td>\n",
       "      <td>NaN</td>\n",
       "      <td>0</td>\n",
       "      <td>6</td>\n",
       "      <td>2010</td>\n",
       "      <td>WD</td>\n",
       "      <td>Normal</td>\n",
       "    </tr>\n",
       "    <tr>\n",
       "      <th>1</th>\n",
       "      <td>1462</td>\n",
       "      <td>20</td>\n",
       "      <td>RL</td>\n",
       "      <td>81.0</td>\n",
       "      <td>14267</td>\n",
       "      <td>Pave</td>\n",
       "      <td>NaN</td>\n",
       "      <td>IR1</td>\n",
       "      <td>Lvl</td>\n",
       "      <td>AllPub</td>\n",
       "      <td>...</td>\n",
       "      <td>0</td>\n",
       "      <td>0</td>\n",
       "      <td>NaN</td>\n",
       "      <td>NaN</td>\n",
       "      <td>Gar2</td>\n",
       "      <td>12500</td>\n",
       "      <td>6</td>\n",
       "      <td>2010</td>\n",
       "      <td>WD</td>\n",
       "      <td>Normal</td>\n",
       "    </tr>\n",
       "    <tr>\n",
       "      <th>2</th>\n",
       "      <td>1463</td>\n",
       "      <td>60</td>\n",
       "      <td>RL</td>\n",
       "      <td>74.0</td>\n",
       "      <td>13830</td>\n",
       "      <td>Pave</td>\n",
       "      <td>NaN</td>\n",
       "      <td>IR1</td>\n",
       "      <td>Lvl</td>\n",
       "      <td>AllPub</td>\n",
       "      <td>...</td>\n",
       "      <td>0</td>\n",
       "      <td>0</td>\n",
       "      <td>NaN</td>\n",
       "      <td>MnPrv</td>\n",
       "      <td>NaN</td>\n",
       "      <td>0</td>\n",
       "      <td>3</td>\n",
       "      <td>2010</td>\n",
       "      <td>WD</td>\n",
       "      <td>Normal</td>\n",
       "    </tr>\n",
       "    <tr>\n",
       "      <th>3</th>\n",
       "      <td>1464</td>\n",
       "      <td>60</td>\n",
       "      <td>RL</td>\n",
       "      <td>78.0</td>\n",
       "      <td>9978</td>\n",
       "      <td>Pave</td>\n",
       "      <td>NaN</td>\n",
       "      <td>IR1</td>\n",
       "      <td>Lvl</td>\n",
       "      <td>AllPub</td>\n",
       "      <td>...</td>\n",
       "      <td>0</td>\n",
       "      <td>0</td>\n",
       "      <td>NaN</td>\n",
       "      <td>NaN</td>\n",
       "      <td>NaN</td>\n",
       "      <td>0</td>\n",
       "      <td>6</td>\n",
       "      <td>2010</td>\n",
       "      <td>WD</td>\n",
       "      <td>Normal</td>\n",
       "    </tr>\n",
       "    <tr>\n",
       "      <th>4</th>\n",
       "      <td>1465</td>\n",
       "      <td>120</td>\n",
       "      <td>RL</td>\n",
       "      <td>43.0</td>\n",
       "      <td>5005</td>\n",
       "      <td>Pave</td>\n",
       "      <td>NaN</td>\n",
       "      <td>IR1</td>\n",
       "      <td>HLS</td>\n",
       "      <td>AllPub</td>\n",
       "      <td>...</td>\n",
       "      <td>144</td>\n",
       "      <td>0</td>\n",
       "      <td>NaN</td>\n",
       "      <td>NaN</td>\n",
       "      <td>NaN</td>\n",
       "      <td>0</td>\n",
       "      <td>1</td>\n",
       "      <td>2010</td>\n",
       "      <td>WD</td>\n",
       "      <td>Normal</td>\n",
       "    </tr>\n",
       "  </tbody>\n",
       "</table>\n",
       "<p>5 rows × 80 columns</p>\n",
       "</div>"
      ],
      "text/plain": [
       "     Id  MSSubClass MSZoning  LotFrontage  LotArea Street Alley LotShape  \\\n",
       "0  1461          20       RH         80.0    11622   Pave   NaN      Reg   \n",
       "1  1462          20       RL         81.0    14267   Pave   NaN      IR1   \n",
       "2  1463          60       RL         74.0    13830   Pave   NaN      IR1   \n",
       "3  1464          60       RL         78.0     9978   Pave   NaN      IR1   \n",
       "4  1465         120       RL         43.0     5005   Pave   NaN      IR1   \n",
       "\n",
       "  LandContour Utilities      ...       ScreenPorch PoolArea PoolQC  Fence  \\\n",
       "0         Lvl    AllPub      ...               120        0    NaN  MnPrv   \n",
       "1         Lvl    AllPub      ...                 0        0    NaN    NaN   \n",
       "2         Lvl    AllPub      ...                 0        0    NaN  MnPrv   \n",
       "3         Lvl    AllPub      ...                 0        0    NaN    NaN   \n",
       "4         HLS    AllPub      ...               144        0    NaN    NaN   \n",
       "\n",
       "  MiscFeature MiscVal MoSold  YrSold  SaleType  SaleCondition  \n",
       "0         NaN       0      6    2010        WD         Normal  \n",
       "1        Gar2   12500      6    2010        WD         Normal  \n",
       "2         NaN       0      3    2010        WD         Normal  \n",
       "3         NaN       0      6    2010        WD         Normal  \n",
       "4         NaN       0      1    2010        WD         Normal  \n",
       "\n",
       "[5 rows x 80 columns]"
      ]
     },
     "execution_count": 4,
     "metadata": {},
     "output_type": "execute_result"
    }
   ],
   "source": [
    "test_data.head()"
   ]
  },
  {
   "cell_type": "code",
   "execution_count": 5,
   "metadata": {},
   "outputs": [
    {
     "name": "stdout",
     "output_type": "stream",
     "text": [
      "Number of Rows: 1460   Number of Columns: 81\n"
     ]
    }
   ],
   "source": [
    "print('Number of Rows: %i   Number of Columns: %i' % train_data.shape)"
   ]
  },
  {
   "cell_type": "code",
   "execution_count": 7,
   "metadata": {},
   "outputs": [
    {
     "data": {
      "text/html": [
       "<div>\n",
       "<style>\n",
       "    .dataframe thead tr:only-child th {\n",
       "        text-align: right;\n",
       "    }\n",
       "\n",
       "    .dataframe thead th {\n",
       "        text-align: left;\n",
       "    }\n",
       "\n",
       "    .dataframe tbody tr th {\n",
       "        vertical-align: top;\n",
       "    }\n",
       "</style>\n",
       "<table border=\"1\" class=\"dataframe\">\n",
       "  <thead>\n",
       "    <tr style=\"text-align: right;\">\n",
       "      <th></th>\n",
       "      <th>Id</th>\n",
       "      <th>MSSubClass</th>\n",
       "      <th>LotFrontage</th>\n",
       "      <th>LotArea</th>\n",
       "      <th>OverallQual</th>\n",
       "      <th>OverallCond</th>\n",
       "      <th>YearBuilt</th>\n",
       "      <th>YearRemodAdd</th>\n",
       "      <th>MasVnrArea</th>\n",
       "      <th>BsmtFinSF1</th>\n",
       "      <th>...</th>\n",
       "      <th>WoodDeckSF</th>\n",
       "      <th>OpenPorchSF</th>\n",
       "      <th>EnclosedPorch</th>\n",
       "      <th>3SsnPorch</th>\n",
       "      <th>ScreenPorch</th>\n",
       "      <th>PoolArea</th>\n",
       "      <th>MiscVal</th>\n",
       "      <th>MoSold</th>\n",
       "      <th>YrSold</th>\n",
       "      <th>SalePrice</th>\n",
       "    </tr>\n",
       "  </thead>\n",
       "  <tbody>\n",
       "    <tr>\n",
       "      <th>count</th>\n",
       "      <td>1460.000000</td>\n",
       "      <td>1460.000000</td>\n",
       "      <td>1201.000000</td>\n",
       "      <td>1460.000000</td>\n",
       "      <td>1460.000000</td>\n",
       "      <td>1460.000000</td>\n",
       "      <td>1460.000000</td>\n",
       "      <td>1460.000000</td>\n",
       "      <td>1452.000000</td>\n",
       "      <td>1460.000000</td>\n",
       "      <td>...</td>\n",
       "      <td>1460.000000</td>\n",
       "      <td>1460.000000</td>\n",
       "      <td>1460.000000</td>\n",
       "      <td>1460.000000</td>\n",
       "      <td>1460.000000</td>\n",
       "      <td>1460.000000</td>\n",
       "      <td>1460.000000</td>\n",
       "      <td>1460.000000</td>\n",
       "      <td>1460.000000</td>\n",
       "      <td>1460.000000</td>\n",
       "    </tr>\n",
       "    <tr>\n",
       "      <th>mean</th>\n",
       "      <td>730.500000</td>\n",
       "      <td>56.897260</td>\n",
       "      <td>70.049958</td>\n",
       "      <td>10516.828082</td>\n",
       "      <td>6.099315</td>\n",
       "      <td>5.575342</td>\n",
       "      <td>1971.267808</td>\n",
       "      <td>1984.865753</td>\n",
       "      <td>103.685262</td>\n",
       "      <td>443.639726</td>\n",
       "      <td>...</td>\n",
       "      <td>94.244521</td>\n",
       "      <td>46.660274</td>\n",
       "      <td>21.954110</td>\n",
       "      <td>3.409589</td>\n",
       "      <td>15.060959</td>\n",
       "      <td>2.758904</td>\n",
       "      <td>43.489041</td>\n",
       "      <td>6.321918</td>\n",
       "      <td>2007.815753</td>\n",
       "      <td>180921.195890</td>\n",
       "    </tr>\n",
       "    <tr>\n",
       "      <th>std</th>\n",
       "      <td>421.610009</td>\n",
       "      <td>42.300571</td>\n",
       "      <td>24.284752</td>\n",
       "      <td>9981.264932</td>\n",
       "      <td>1.382997</td>\n",
       "      <td>1.112799</td>\n",
       "      <td>30.202904</td>\n",
       "      <td>20.645407</td>\n",
       "      <td>181.066207</td>\n",
       "      <td>456.098091</td>\n",
       "      <td>...</td>\n",
       "      <td>125.338794</td>\n",
       "      <td>66.256028</td>\n",
       "      <td>61.119149</td>\n",
       "      <td>29.317331</td>\n",
       "      <td>55.757415</td>\n",
       "      <td>40.177307</td>\n",
       "      <td>496.123024</td>\n",
       "      <td>2.703626</td>\n",
       "      <td>1.328095</td>\n",
       "      <td>79442.502883</td>\n",
       "    </tr>\n",
       "    <tr>\n",
       "      <th>min</th>\n",
       "      <td>1.000000</td>\n",
       "      <td>20.000000</td>\n",
       "      <td>21.000000</td>\n",
       "      <td>1300.000000</td>\n",
       "      <td>1.000000</td>\n",
       "      <td>1.000000</td>\n",
       "      <td>1872.000000</td>\n",
       "      <td>1950.000000</td>\n",
       "      <td>0.000000</td>\n",
       "      <td>0.000000</td>\n",
       "      <td>...</td>\n",
       "      <td>0.000000</td>\n",
       "      <td>0.000000</td>\n",
       "      <td>0.000000</td>\n",
       "      <td>0.000000</td>\n",
       "      <td>0.000000</td>\n",
       "      <td>0.000000</td>\n",
       "      <td>0.000000</td>\n",
       "      <td>1.000000</td>\n",
       "      <td>2006.000000</td>\n",
       "      <td>34900.000000</td>\n",
       "    </tr>\n",
       "    <tr>\n",
       "      <th>25%</th>\n",
       "      <td>365.750000</td>\n",
       "      <td>20.000000</td>\n",
       "      <td>59.000000</td>\n",
       "      <td>7553.500000</td>\n",
       "      <td>5.000000</td>\n",
       "      <td>5.000000</td>\n",
       "      <td>1954.000000</td>\n",
       "      <td>1967.000000</td>\n",
       "      <td>0.000000</td>\n",
       "      <td>0.000000</td>\n",
       "      <td>...</td>\n",
       "      <td>0.000000</td>\n",
       "      <td>0.000000</td>\n",
       "      <td>0.000000</td>\n",
       "      <td>0.000000</td>\n",
       "      <td>0.000000</td>\n",
       "      <td>0.000000</td>\n",
       "      <td>0.000000</td>\n",
       "      <td>5.000000</td>\n",
       "      <td>2007.000000</td>\n",
       "      <td>129975.000000</td>\n",
       "    </tr>\n",
       "    <tr>\n",
       "      <th>50%</th>\n",
       "      <td>730.500000</td>\n",
       "      <td>50.000000</td>\n",
       "      <td>69.000000</td>\n",
       "      <td>9478.500000</td>\n",
       "      <td>6.000000</td>\n",
       "      <td>5.000000</td>\n",
       "      <td>1973.000000</td>\n",
       "      <td>1994.000000</td>\n",
       "      <td>0.000000</td>\n",
       "      <td>383.500000</td>\n",
       "      <td>...</td>\n",
       "      <td>0.000000</td>\n",
       "      <td>25.000000</td>\n",
       "      <td>0.000000</td>\n",
       "      <td>0.000000</td>\n",
       "      <td>0.000000</td>\n",
       "      <td>0.000000</td>\n",
       "      <td>0.000000</td>\n",
       "      <td>6.000000</td>\n",
       "      <td>2008.000000</td>\n",
       "      <td>163000.000000</td>\n",
       "    </tr>\n",
       "    <tr>\n",
       "      <th>75%</th>\n",
       "      <td>1095.250000</td>\n",
       "      <td>70.000000</td>\n",
       "      <td>80.000000</td>\n",
       "      <td>11601.500000</td>\n",
       "      <td>7.000000</td>\n",
       "      <td>6.000000</td>\n",
       "      <td>2000.000000</td>\n",
       "      <td>2004.000000</td>\n",
       "      <td>166.000000</td>\n",
       "      <td>712.250000</td>\n",
       "      <td>...</td>\n",
       "      <td>168.000000</td>\n",
       "      <td>68.000000</td>\n",
       "      <td>0.000000</td>\n",
       "      <td>0.000000</td>\n",
       "      <td>0.000000</td>\n",
       "      <td>0.000000</td>\n",
       "      <td>0.000000</td>\n",
       "      <td>8.000000</td>\n",
       "      <td>2009.000000</td>\n",
       "      <td>214000.000000</td>\n",
       "    </tr>\n",
       "    <tr>\n",
       "      <th>max</th>\n",
       "      <td>1460.000000</td>\n",
       "      <td>190.000000</td>\n",
       "      <td>313.000000</td>\n",
       "      <td>215245.000000</td>\n",
       "      <td>10.000000</td>\n",
       "      <td>9.000000</td>\n",
       "      <td>2010.000000</td>\n",
       "      <td>2010.000000</td>\n",
       "      <td>1600.000000</td>\n",
       "      <td>5644.000000</td>\n",
       "      <td>...</td>\n",
       "      <td>857.000000</td>\n",
       "      <td>547.000000</td>\n",
       "      <td>552.000000</td>\n",
       "      <td>508.000000</td>\n",
       "      <td>480.000000</td>\n",
       "      <td>738.000000</td>\n",
       "      <td>15500.000000</td>\n",
       "      <td>12.000000</td>\n",
       "      <td>2010.000000</td>\n",
       "      <td>755000.000000</td>\n",
       "    </tr>\n",
       "  </tbody>\n",
       "</table>\n",
       "<p>8 rows × 38 columns</p>\n",
       "</div>"
      ],
      "text/plain": [
       "                Id   MSSubClass  LotFrontage        LotArea  OverallQual  \\\n",
       "count  1460.000000  1460.000000  1201.000000    1460.000000  1460.000000   \n",
       "mean    730.500000    56.897260    70.049958   10516.828082     6.099315   \n",
       "std     421.610009    42.300571    24.284752    9981.264932     1.382997   \n",
       "min       1.000000    20.000000    21.000000    1300.000000     1.000000   \n",
       "25%     365.750000    20.000000    59.000000    7553.500000     5.000000   \n",
       "50%     730.500000    50.000000    69.000000    9478.500000     6.000000   \n",
       "75%    1095.250000    70.000000    80.000000   11601.500000     7.000000   \n",
       "max    1460.000000   190.000000   313.000000  215245.000000    10.000000   \n",
       "\n",
       "       OverallCond    YearBuilt  YearRemodAdd   MasVnrArea   BsmtFinSF1  \\\n",
       "count  1460.000000  1460.000000   1460.000000  1452.000000  1460.000000   \n",
       "mean      5.575342  1971.267808   1984.865753   103.685262   443.639726   \n",
       "std       1.112799    30.202904     20.645407   181.066207   456.098091   \n",
       "min       1.000000  1872.000000   1950.000000     0.000000     0.000000   \n",
       "25%       5.000000  1954.000000   1967.000000     0.000000     0.000000   \n",
       "50%       5.000000  1973.000000   1994.000000     0.000000   383.500000   \n",
       "75%       6.000000  2000.000000   2004.000000   166.000000   712.250000   \n",
       "max       9.000000  2010.000000   2010.000000  1600.000000  5644.000000   \n",
       "\n",
       "           ...         WoodDeckSF  OpenPorchSF  EnclosedPorch    3SsnPorch  \\\n",
       "count      ...        1460.000000  1460.000000    1460.000000  1460.000000   \n",
       "mean       ...          94.244521    46.660274      21.954110     3.409589   \n",
       "std        ...         125.338794    66.256028      61.119149    29.317331   \n",
       "min        ...           0.000000     0.000000       0.000000     0.000000   \n",
       "25%        ...           0.000000     0.000000       0.000000     0.000000   \n",
       "50%        ...           0.000000    25.000000       0.000000     0.000000   \n",
       "75%        ...         168.000000    68.000000       0.000000     0.000000   \n",
       "max        ...         857.000000   547.000000     552.000000   508.000000   \n",
       "\n",
       "       ScreenPorch     PoolArea       MiscVal       MoSold       YrSold  \\\n",
       "count  1460.000000  1460.000000   1460.000000  1460.000000  1460.000000   \n",
       "mean     15.060959     2.758904     43.489041     6.321918  2007.815753   \n",
       "std      55.757415    40.177307    496.123024     2.703626     1.328095   \n",
       "min       0.000000     0.000000      0.000000     1.000000  2006.000000   \n",
       "25%       0.000000     0.000000      0.000000     5.000000  2007.000000   \n",
       "50%       0.000000     0.000000      0.000000     6.000000  2008.000000   \n",
       "75%       0.000000     0.000000      0.000000     8.000000  2009.000000   \n",
       "max     480.000000   738.000000  15500.000000    12.000000  2010.000000   \n",
       "\n",
       "           SalePrice  \n",
       "count    1460.000000  \n",
       "mean   180921.195890  \n",
       "std     79442.502883  \n",
       "min     34900.000000  \n",
       "25%    129975.000000  \n",
       "50%    163000.000000  \n",
       "75%    214000.000000  \n",
       "max    755000.000000  \n",
       "\n",
       "[8 rows x 38 columns]"
      ]
     },
     "execution_count": 7,
     "metadata": {},
     "output_type": "execute_result"
    }
   ],
   "source": [
    "train_data.describe()"
   ]
  },
  {
   "cell_type": "markdown",
   "metadata": {},
   "source": [
    "## データ理解"
   ]
  },
  {
   "cell_type": "code",
   "execution_count": 8,
   "metadata": {},
   "outputs": [
    {
     "data": {
      "text/plain": [
       "<matplotlib.axes._subplots.AxesSubplot at 0x1a1140bb70>"
      ]
     },
     "execution_count": 8,
     "metadata": {},
     "output_type": "execute_result"
    },
    {
     "data": {
      "image/png": "[encoded data removed]",
      "text/plain": [
       "<matplotlib.figure.Figure at 0x1a1140b240>"
      ]
     },
     "metadata": {},
     "output_type": "display_data"
    }
   ],
   "source": [
    "train_data['SalePrice'].hist()"
   ]
  },
  {
   "cell_type": "code",
   "execution_count": 9,
   "metadata": {
    "collapsed": true
   },
   "outputs": [],
   "source": [
    "#plt.hist(np.log(train_data['SalePrice']))"
   ]
  },
  {
   "cell_type": "code",
   "execution_count": 11,
   "metadata": {},
   "outputs": [
    {
     "name": "stderr",
     "output_type": "stream",
     "text": [
      "/Users/shota/anaconda3/lib/python3.6/site-packages/numpy/core/fromnumeric.py:57: FutureWarning: reshape is deprecated and will raise in a subsequent release. Please use .values.reshape(...) instead\n",
      "  return getattr(obj, method)(*args, **kwds)\n"
     ]
    },
    {
     "data": {
      "text/plain": [
       "<matplotlib.axes._subplots.AxesSubplot at 0x1a1a462630>"
      ]
     },
     "execution_count": 11,
     "metadata": {},
     "output_type": "execute_result"
    },
    {
     "data": {
      "image/png": "[encoded data removed]",
      "text/plain": [
       "<matplotlib.figure.Figure at 0x1a1a46e8d0>"
      ]
     },
     "metadata": {},
     "output_type": "display_data"
    }
   ],
   "source": [
    "train_data[['Neighborhood', 'SalePrice']].boxplot(by='Neighborhood',figsize=(20, 5))"
   ]
  },
  {
   "cell_type": "code",
   "execution_count": 13,
   "metadata": {},
   "outputs": [
    {
     "data": {
      "text/plain": [
       "<matplotlib.axes._subplots.AxesSubplot at 0x1a1aa0a8d0>"
      ]
     },
     "execution_count": 13,
     "metadata": {},
     "output_type": "execute_result"
    },
    {
     "data": {
      "image/png": "[encoded data removed]",
      "text/plain": [
       "<matplotlib.figure.Figure at 0x1a1a9f98d0>"
      ]
     },
     "metadata": {},
     "output_type": "display_data"
    }
   ],
   "source": [
    "train_data.plot(kind='scatter', x='GrLivArea', y='SalePrice')"
   ]
  },
  {
   "cell_type": "code",
   "execution_count": 16,
   "metadata": {},
   "outputs": [
    {
     "data": {
      "text/plain": [
       "<matplotlib.axes._subplots.AxesSubplot at 0x1a1b0b3ac8>"
      ]
     },
     "execution_count": 16,
     "metadata": {},
     "output_type": "execute_result"
    },
    {
     "data": {
      "image/png": "[encoded data removed]",
      "text/plain": [
       "<matplotlib.figure.Figure at 0x1a1aecd208>"
      ]
     },
     "metadata": {},
     "output_type": "display_data"
    }
   ],
   "source": [
    "#TotalBsmtSF：地下1階の合計平方フィート\n",
    "train_data.plot(kind='scatter', x='TotalBsmtSF', y='SalePrice')"
   ]
  },
  {
   "cell_type": "code",
   "execution_count": 24,
   "metadata": {},
   "outputs": [
    {
     "data": {
      "text/plain": [
       "<matplotlib.axes._subplots.AxesSubplot at 0x1a1b815320>"
      ]
     },
     "execution_count": 24,
     "metadata": {},
     "output_type": "execute_result"
    },
    {
     "data": {
      "image/png": "[encoded data removed]",
      "text/plain": [
       "<matplotlib.figure.Figure at 0x1a1b899828>"
      ]
     },
     "metadata": {},
     "output_type": "display_data"
    }
   ],
   "source": [
    "train_data['GarageYrBlt'].hist()"
   ]
  },
  {
   "cell_type": "code",
   "execution_count": 26,
   "metadata": {
    "scrolled": true
   },
   "outputs": [
    {
     "data": {
      "text/plain": [
       "<matplotlib.axes._subplots.AxesSubplot at 0x1a1b2d9da0>"
      ]
     },
     "execution_count": 26,
     "metadata": {},
     "output_type": "execute_result"
    },
    {
     "data": {
      "image/png": "[encoded data removed]",
      "text/plain": [
       "<matplotlib.figure.Figure at 0x1a1b8153c8>"
      ]
     },
     "metadata": {},
     "output_type": "display_data"
    }
   ],
   "source": [
    "train_data['GarageArea'].hist()"
   ]
  },
  {
   "cell_type": "code",
   "execution_count": 29,
   "metadata": {},
   "outputs": [
    {
     "data": {
      "text/plain": [
       "<matplotlib.axes._subplots.AxesSubplot at 0x1a1ba9ccf8>"
      ]
     },
     "execution_count": 29,
     "metadata": {},
     "output_type": "execute_result"
    },
    {
     "data": {
      "image/png": "[encoded data removed]",
      "text/plain": [
       "<matplotlib.figure.Figure at 0x1a1ba91080>"
      ]
     },
     "metadata": {},
     "output_type": "display_data"
    }
   ],
   "source": [
    "train_data['YearBuilt'].hist(bins=100)"
   ]
  },
  {
   "cell_type": "code",
   "execution_count": 30,
   "metadata": {
    "scrolled": false
   },
   "outputs": [
    {
     "data": {
      "text/plain": [
       "<matplotlib.axes._subplots.AxesSubplot at 0x1a1bca9e80>"
      ]
     },
     "execution_count": 30,
     "metadata": {},
     "output_type": "execute_result"
    },
    {
     "data": {
      "image/png": "[encoded data removed]",
      "text/plain": [
       "<matplotlib.figure.Figure at 0x1a1ba91ba8>"
      ]
     },
     "metadata": {},
     "output_type": "display_data"
    }
   ],
   "source": [
    "train_data['YearRemodAdd'].hist(bins=100)"
   ]
  },
  {
   "cell_type": "code",
   "execution_count": 37,
   "metadata": {},
   "outputs": [
    {
     "data": {
      "text/plain": [
       "<matplotlib.axes._subplots.AxesSubplot at 0x1a1c2fd390>"
      ]
     },
     "execution_count": 37,
     "metadata": {},
     "output_type": "execute_result"
    },
    {
     "data": {
      "image/png": "[encoded data removed]",
      "text/plain": [
       "<matplotlib.figure.Figure at 0x1a1b85d400>"
      ]
     },
     "metadata": {},
     "output_type": "display_data"
    }
   ],
   "source": [
    "train_data.plot(kind='scatter', x='YearBuilt', y='SalePrice')"
   ]
  },
  {
   "cell_type": "code",
   "execution_count": 38,
   "metadata": {},
   "outputs": [
    {
     "data": {
      "text/plain": [
       "<matplotlib.axes._subplots.AxesSubplot at 0x1a1c550748>"
      ]
     },
     "execution_count": 38,
     "metadata": {},
     "output_type": "execute_result"
    },
    {
     "data": {
      "image/png": "[encoded data removed]",
      "text/plain": [
       "<matplotlib.figure.Figure at 0x1a1c5201d0>"
      ]
     },
     "metadata": {},
     "output_type": "display_data"
    }
   ],
   "source": [
    "train_data.plot(kind='scatter', x='YearRemodAdd', y='SalePrice')"
   ]
  },
  {
   "cell_type": "code",
   "execution_count": 46,
   "metadata": {},
   "outputs": [
    {
     "data": {
      "text/plain": [
       "<matplotlib.axes._subplots.AxesSubplot at 0x1a1ccf73c8>"
      ]
     },
     "execution_count": 46,
     "metadata": {},
     "output_type": "execute_result"
    },
    {
     "data": {
      "image/png": "[encoded data removed]",
      "text/plain": [
       "<matplotlib.figure.Figure at 0x1a1cceeb00>"
      ]
     },
     "metadata": {},
     "output_type": "display_data"
    }
   ],
   "source": [
    "#1stFlrSF\n",
    "train_data.plot(kind='scatter', x='1stFlrSF', y='SalePrice')"
   ]
  },
  {
   "cell_type": "code",
   "execution_count": 50,
   "metadata": {},
   "outputs": [
    {
     "name": "stderr",
     "output_type": "stream",
     "text": [
      "/Users/shota/anaconda3/lib/python3.6/site-packages/numpy/core/fromnumeric.py:57: FutureWarning: reshape is deprecated and will raise in a subsequent release. Please use .values.reshape(...) instead\n",
      "  return getattr(obj, method)(*args, **kwds)\n"
     ]
    },
    {
     "data": {
      "text/plain": [
       "<matplotlib.axes._subplots.AxesSubplot at 0x1a1cd054a8>"
      ]
     },
     "execution_count": 50,
     "metadata": {},
     "output_type": "execute_result"
    },
    {
     "data": {
      "image/png": "[encoded data removed]",
      "text/plain": [
       "<matplotlib.figure.Figure at 0x1a1cdc8080>"
      ]
     },
     "metadata": {},
     "output_type": "display_data"
    }
   ],
   "source": [
    "#OverallQual\n",
    "train_data[['OverallQual', 'SalePrice']].boxplot(by='OverallQual')"
   ]
  },
  {
   "cell_type": "markdown",
   "metadata": {},
   "source": [
    "# 特徴量調整"
   ]
  },
  {
   "cell_type": "markdown",
   "metadata": {},
   "source": [
    "## データ結合"
   ]
  },
  {
   "cell_type": "code",
   "execution_count": 69,
   "metadata": {},
   "outputs": [
    {
     "name": "stdout",
     "output_type": "stream",
     "text": [
      "train_data(before dropping) :Number of Rows 1460   Number of Columns 81\n",
      "test_data(before dropping) :Number of Rows 1459   Number of Columns 80\n",
      "train_data(after dropping) :Number of Rows 1460   Number of Columns 80\n",
      "test_data(after dropping) :Number of Rows 1459   Number of Columns 79\n"
     ]
    }
   ],
   "source": [
    "#Idを他に移して削除\n",
    "print('train_data(before dropping) :Number of Rows %i   Number of Columns %i' % train_data.shape)\n",
    "print('test_data(before dropping) :Number of Rows %i   Number of Columns %i' % test_data.shape)\n",
    "\n",
    "train_ID = train_data['Id']\n",
    "test_ID = test_data['Id']\n",
    "\n",
    "train_data.drop(\"Id\", axis = 1, inplace = True)\n",
    "test_data.drop(\"Id\", axis = 1, inplace = True)\n",
    "\n",
    "print('train_data(after dropping) :Number of Rows %i   Number of Columns %i' % train_data.shape)\n",
    "print('test_data(after dropping) :Number of Rows %i   Number of Columns %i' % test_data.shape)"
   ]
  },
  {
   "cell_type": "code",
   "execution_count": 70,
   "metadata": {},
   "outputs": [
    {
     "name": "stdout",
     "output_type": "stream",
     "text": [
      "all_data :Number of Rows 2919   Number of Columns 79\n"
     ]
    }
   ],
   "source": [
    "#SalePriceを他に移して削除\n",
    "num_train = train_data.shape[0]\n",
    "num_test = test_data.shape[0]\n",
    "y_train_data_organic = train_data.SalePrice.values\n",
    "y_train_data = np.log(train_data.SalePrice.values)\n",
    "all_data = pd.concat((train_data, test_data)).reset_index(drop=True)\n",
    "all_data.drop(['SalePrice'], axis=1, inplace=True)\n",
    "print('all_data :Number of Rows %i   Number of Columns %i' % all_data.shape)"
   ]
  },
  {
   "cell_type": "markdown",
   "metadata": {},
   "source": [
    "## 欠損値"
   ]
  },
  {
   "cell_type": "markdown",
   "metadata": {},
   "source": [
    "###### 欠損値をチェック"
   ]
  },
  {
   "cell_type": "code",
   "execution_count": 71,
   "metadata": {
    "scrolled": false
   },
   "outputs": [
    {
     "name": "stdout",
     "output_type": "stream",
     "text": [
      "Alley ; # of missing record:  2721\n",
      "BsmtCond ; # of missing record:  82\n",
      "BsmtExposure ; # of missing record:  82\n",
      "BsmtFinSF1 ; # of missing record:  1\n",
      "BsmtFinSF2 ; # of missing record:  1\n",
      "BsmtFinType1 ; # of missing record:  79\n",
      "BsmtFinType2 ; # of missing record:  80\n",
      "BsmtFullBath ; # of missing record:  2\n",
      "BsmtHalfBath ; # of missing record:  2\n",
      "BsmtQual ; # of missing record:  81\n",
      "BsmtUnfSF ; # of missing record:  1\n",
      "Electrical ; # of missing record:  1\n",
      "Exterior1st ; # of missing record:  1\n",
      "Exterior2nd ; # of missing record:  1\n",
      "Fence ; # of missing record:  2348\n",
      "FireplaceQu ; # of missing record:  1420\n",
      "Functional ; # of missing record:  2\n",
      "GarageArea ; # of missing record:  1\n",
      "GarageCars ; # of missing record:  1\n",
      "GarageCond ; # of missing record:  159\n",
      "GarageFinish ; # of missing record:  159\n",
      "GarageQual ; # of missing record:  159\n",
      "GarageType ; # of missing record:  157\n",
      "GarageYrBlt ; # of missing record:  159\n",
      "KitchenQual ; # of missing record:  1\n",
      "LotFrontage ; # of missing record:  486\n",
      "MSZoning ; # of missing record:  4\n",
      "MasVnrArea ; # of missing record:  23\n",
      "MasVnrType ; # of missing record:  24\n",
      "MiscFeature ; # of missing record:  2814\n",
      "PoolQC ; # of missing record:  2909\n",
      "SaleType ; # of missing record:  1\n",
      "TotalBsmtSF ; # of missing record:  1\n",
      "Utilities ; # of missing record:  2\n"
     ]
    }
   ],
   "source": [
    "col_names = all_data.columns\n",
    "for col_name in col_names:\n",
    "    missing_num = sum(pd.isnull(all_data[col_name]))\n",
    "    if missing_num > 0:\n",
    "        print(col_name, '; # of missing record: ', missing_num)"
   ]
  },
  {
   "cell_type": "markdown",
   "metadata": {},
   "source": [
    "###### 相関をチェック"
   ]
  },
  {
   "cell_type": "code",
   "execution_count": 73,
   "metadata": {
    "scrolled": false
   },
   "outputs": [
    {
     "data": {
      "text/plain": [
       "<matplotlib.axes._subplots.AxesSubplot at 0x1a1d2375f8>"
      ]
     },
     "execution_count": 73,
     "metadata": {},
     "output_type": "execute_result"
    },
    {
     "data": {
      "image/png": "[encoded data removed]",
      "text/plain": [
       "<matplotlib.figure.Figure at 0x1a1cda4160>"
      ]
     },
     "metadata": {},
     "output_type": "display_data"
    }
   ],
   "source": [
    "#特徴量相関マップ\n",
    "corrmat = train_data.corr()\n",
    "plt.subplots(figsize=(10,8))\n",
    "sns.heatmap(corrmat, vmax=0.8, square=True)"
   ]
  },
  {
   "cell_type": "markdown",
   "metadata": {},
   "source": [
    "###### 欠損値を「None」に変換"
   ]
  },
  {
   "cell_type": "markdown",
   "metadata": {},
   "source": [
    "欠損値が「なし」という意味の場合、「None」で埋める"
   ]
  },
  {
   "cell_type": "code",
   "execution_count": 74,
   "metadata": {
    "collapsed": true
   },
   "outputs": [],
   "source": [
    "na_none_cols = ['BsmtQual', 'BsmtCond', 'BsmtExposure', 'BsmtFinType1', 'BsmtFinType2',\n",
    "                'FireplaceQu',\n",
    "                'GarageType','GarageFinish','GarageQual','GarageCond',\n",
    "                'PoolQC',\n",
    "                'Fence',\n",
    "                'MiscFeature',\n",
    "                'MasVnrType',\n",
    "                'Alley']\n",
    "for col in na_none_cols:\n",
    "    all_data[col] = all_data[col].fillna('None')"
   ]
  },
  {
   "cell_type": "markdown",
   "metadata": {},
   "source": [
    "###### 欠損値を平均で埋める"
   ]
  },
  {
   "cell_type": "code",
   "execution_count": 77,
   "metadata": {
    "collapsed": true
   },
   "outputs": [],
   "source": [
    "#LotFrontage：「Neighborhoodごとの平均」でうめる\n",
    "all_data['LotFrontage'] = \\\n",
    "    all_data.groupby('Neighborhood')['LotFrontage'].transform(\n",
    "        lambda x: x.fillna(x.mean())\n",
    "    )"
   ]
  },
  {
   "cell_type": "markdown",
   "metadata": {},
   "source": [
    "###### 欠損値を固定値で埋める"
   ]
  },
  {
   "cell_type": "markdown",
   "metadata": {},
   "source": [
    "0で埋める"
   ]
  },
  {
   "cell_type": "code",
   "execution_count": 78,
   "metadata": {
    "collapsed": true
   },
   "outputs": [],
   "source": [
    "na_zero_cols = ['GarageArea', 'GarageCars','GarageYrBlt',\n",
    "               'BsmtFinSF1', 'BsmtFinSF2', 'BsmtUnfSF','TotalBsmtSF', 'BsmtFullBath', 'BsmtHalfBath',\n",
    "               'MasVnrArea']\n",
    "for i in na_zero_cols:\n",
    "    all_data[i] = all_data[i].fillna(0)"
   ]
  },
  {
   "cell_type": "markdown",
   "metadata": {},
   "source": [
    "最頻値で埋める"
   ]
  },
  {
   "cell_type": "code",
   "execution_count": 80,
   "metadata": {
    "collapsed": true
   },
   "outputs": [],
   "source": [
    "na_mode_cols = ['MSZoning','Electrical','KitchenQual','Exterior1st','Exterior2nd','SaleType','Utilities']\n",
    "for i in na_mode_cols:\n",
    "    all_data[i] = all_data[i].fillna(all_data[i].mode()[0])"
   ]
  },
  {
   "cell_type": "markdown",
   "metadata": {},
   "source": [
    "その他"
   ]
  },
  {
   "cell_type": "code",
   "execution_count": 81,
   "metadata": {
    "collapsed": true
   },
   "outputs": [],
   "source": [
    "all_data['Functional'] = all_data['Functional'].fillna('Typ')"
   ]
  },
  {
   "cell_type": "markdown",
   "metadata": {},
   "source": [
    "## 順序尺度の質的変数を量的変数に変換"
   ]
  },
  {
   "cell_type": "markdown",
   "metadata": {},
   "source": [
    "###### ちゃんと変換"
   ]
  },
  {
   "cell_type": "markdown",
   "metadata": {},
   "source": [
    "【6段階】Ex:5,Gd:4,TA:3,Fa:2,Po:1,(NA:0)"
   ]
  },
  {
   "cell_type": "code",
   "execution_count": 82,
   "metadata": {
    "collapsed": true
   },
   "outputs": [],
   "source": [
    "#変換対象変数\n",
    "change_int_01_cols = ['KitchenQual','FireplaceQu', 'BsmtQual', 'BsmtCond', \n",
    "                      'GarageQual', 'GarageCond','ExterQual','ExterCond', 'KitchenQual']"
   ]
  },
  {
   "cell_type": "code",
   "execution_count": 83,
   "metadata": {
    "collapsed": true
   },
   "outputs": [],
   "source": [
    "#変換関数\n",
    "def change_int_01(x):\n",
    "    if x == 'Ex':\n",
    "        return int(5)\n",
    "    elif x == 'Gd':\n",
    "        return int(4)\n",
    "    elif x == 'TA':\n",
    "        return int(3)\n",
    "    elif x == 'Fa':\n",
    "        return int(2)\n",
    "    elif x == 'Po':\n",
    "        return int(1)\n",
    "    elif x == 'None':\n",
    "        return int(0)\n",
    "    elif x != x:\n",
    "        return int(0) #NaNだったら0にする\n",
    "    else:\n",
    "        return int(x) #上記以外（数字）が入ってたらそのままにしておく"
   ]
  },
  {
   "cell_type": "code",
   "execution_count": 84,
   "metadata": {
    "collapsed": true
   },
   "outputs": [],
   "source": [
    "#尺度変数を量的変数に変換\n",
    "for i in change_int_01_cols:\n",
    "    all_data[i] = all_data[i].apply(change_int_01)"
   ]
  },
  {
   "cell_type": "markdown",
   "metadata": {},
   "source": [
    "【5段階】Gd:4,Av:3,Mn:2,No:1,(NA:0) "
   ]
  },
  {
   "cell_type": "code",
   "execution_count": 86,
   "metadata": {
    "collapsed": true
   },
   "outputs": [],
   "source": [
    "change_int_02_cols = ['BsmtExposure']"
   ]
  },
  {
   "cell_type": "code",
   "execution_count": 87,
   "metadata": {
    "collapsed": true
   },
   "outputs": [],
   "source": [
    "#変換関数\n",
    "def change_int_02(x):\n",
    "    if x == 'Gd':\n",
    "        return int(4)\n",
    "    elif x == 'Av':\n",
    "        return int(3)\n",
    "    elif x == 'Mn':\n",
    "        return int(2)\n",
    "    elif x == 'No':\n",
    "        return int(1)\n",
    "    elif x == 'None':\n",
    "        return int(0)\n",
    "    elif x != x:\n",
    "        return int(0) #NaNだったら0にする\n",
    "    else:\n",
    "        return int(x) #上記以外（数字）が入ってたらそのままにしておく"
   ]
  },
  {
   "cell_type": "code",
   "execution_count": 88,
   "metadata": {
    "collapsed": true
   },
   "outputs": [],
   "source": [
    "#尺度変数を量的変数に変換\n",
    "for i in change_int_02_cols:\n",
    "    all_data[i] = all_data[i].apply(change_int_02)"
   ]
  },
  {
   "cell_type": "markdown",
   "metadata": {},
   "source": [
    "###### ざっくり変換"
   ]
  },
  {
   "cell_type": "code",
   "execution_count": 89,
   "metadata": {
    "collapsed": true
   },
   "outputs": [],
   "source": [
    "change_int_cols = ('PoolQC', 'BsmtFinType1', 'BsmtFinType2', 'Functional', 'Fence', 'GarageFinish', \n",
    "                   'LandSlope','LotShape', 'PavedDrive', 'Street', 'Alley', 'CentralAir')"
   ]
  },
  {
   "cell_type": "code",
   "execution_count": 90,
   "metadata": {
    "collapsed": true
   },
   "outputs": [],
   "source": [
    "for i in change_int_cols:\n",
    "    lbl = LabelEncoder() \n",
    "    lbl.fit(list(all_data[i].values)) \n",
    "    all_data[i] = lbl.transform(list(all_data[i].values))"
   ]
  },
  {
   "cell_type": "code",
   "execution_count": 91,
   "metadata": {},
   "outputs": [
    {
     "name": "stdout",
     "output_type": "stream",
     "text": [
      "all_data :Number of Rows 2919   Number of Columns 79\n"
     ]
    }
   ],
   "source": [
    "print('all_data :Number of Rows %i   Number of Columns %i' % all_data.shape)"
   ]
  },
  {
   "cell_type": "markdown",
   "metadata": {},
   "source": [
    "# 特徴量作成"
   ]
  },
  {
   "cell_type": "markdown",
   "metadata": {},
   "source": [
    "### 割り算したくない特徴量"
   ]
  },
  {
   "cell_type": "code",
   "execution_count": 92,
   "metadata": {
    "collapsed": true
   },
   "outputs": [],
   "source": [
    "exclude_cols = ['TotalSF','QualYear']"
   ]
  },
  {
   "cell_type": "markdown",
   "metadata": {},
   "source": [
    "### 個別に作成"
   ]
  },
  {
   "cell_type": "code",
   "execution_count": 93,
   "metadata": {
    "collapsed": true
   },
   "outputs": [],
   "source": [
    "#全体の面積\n",
    "all_data['TotalSF'] = all_data['TotalBsmtSF'] + all_data['1stFlrSF'] + all_data['2ndFlrSF']\n",
    "\n",
    "#評価を加味した建築年\n",
    "all_data['QualYear'] = \\\n",
    "    all_data['YearBuilt'] + (all_data['YearRemodAdd'] - all_data['YearBuilt'])*all_data['OverallQual']/10\n"
   ]
  },
  {
   "cell_type": "code",
   "execution_count": 94,
   "metadata": {
    "collapsed": true
   },
   "outputs": [],
   "source": [
    "##地域平均,地域別係数を作成\n",
    "\n",
    "#変換対象変数\n",
    "make_by_nh_cols = ['GrLivArea','LotArea','TotalSF','TotalBsmtSF','1stFlrSF']\n",
    "\n",
    "#尺度変数を量的変数に変換\n",
    "for i in make_by_nh_cols:\n",
    "    all_data[i+'Mean'] = all_data.groupby('Neighborhood')[i].transform(lambda x: x.mean())\n",
    "    all_data[i+'Rate'] = all_data[i]/all_data[i+'Mean']\n",
    "    exclude_cols.append(i+'Mean')\n",
    "    exclude_cols.append(i+'Rate')\n"
   ]
  },
  {
   "cell_type": "markdown",
   "metadata": {},
   "source": [
    "### カテゴリ番号をカテゴリ変数に変換"
   ]
  },
  {
   "cell_type": "code",
   "execution_count": 95,
   "metadata": {
    "collapsed": true
   },
   "outputs": [],
   "source": [
    "#カテゴリ番号をOBJECTに変換\n",
    "all_data['MSSubClass'] = all_data['MSSubClass'].astype('str')"
   ]
  },
  {
   "cell_type": "markdown",
   "metadata": {},
   "source": [
    "### カテゴリ変数をダミー変数に変換"
   ]
  },
  {
   "cell_type": "code",
   "execution_count": 96,
   "metadata": {},
   "outputs": [
    {
     "name": "stdout",
     "output_type": "stream",
     "text": [
      "all_data :Number of Rows 2919   Number of Columns 253\n"
     ]
    }
   ],
   "source": [
    "all_data = pd.get_dummies(all_data)\n",
    "print('all_data :Number of Rows %i   Number of Columns %i' % all_data.shape)"
   ]
  },
  {
   "cell_type": "markdown",
   "metadata": {},
   "source": [
    "## 特徴量を指定"
   ]
  },
  {
   "cell_type": "code",
   "execution_count": 97,
   "metadata": {
    "collapsed": true
   },
   "outputs": [],
   "source": [
    "feature_cols = [col for col in all_data.columns if col not in exclude_cols]"
   ]
  },
  {
   "cell_type": "markdown",
   "metadata": {},
   "source": [
    "## 特徴量を割り算で作成"
   ]
  },
  {
   "cell_type": "code",
   "execution_count": 99,
   "metadata": {
    "collapsed": true,
    "scrolled": true
   },
   "outputs": [],
   "source": [
    "cutoff_r = 0.5\n",
    "new_added_col = []\n",
    "for i in range(0, len(feature_cols)-1):\n",
    "    for j in range(i+1, len(feature_cols)):\n",
    "        first_col_name = feature_cols[i]\n",
    "        second_col_name = feature_cols[j]\n",
    "        r = spearmanr(all_data[first_col_name], all_data[second_col_name]).correlation\n",
    "        if abs(r) > cutoff_r:\n",
    "            new_colname = first_col_name + \"_div_\" + second_col_name\n",
    "            all_data[new_colname] = all_data[first_col_name] / (all_data[second_col_name] + 0.01)\n",
    "            new_added_col.append(new_colname)"
   ]
  },
  {
   "cell_type": "code",
   "execution_count": 100,
   "metadata": {
    "collapsed": true
   },
   "outputs": [],
   "source": [
    "feature_cols = feature_cols + new_added_col + exclude_cols"
   ]
  },
  {
   "cell_type": "code",
   "execution_count": 101,
   "metadata": {},
   "outputs": [
    {
     "data": {
      "text/plain": [
       "404"
      ]
     },
     "execution_count": 101,
     "metadata": {},
     "output_type": "execute_result"
    }
   ],
   "source": [
    "len(feature_cols)"
   ]
  },
  {
   "cell_type": "markdown",
   "metadata": {},
   "source": [
    "## データを再分割"
   ]
  },
  {
   "cell_type": "code",
   "execution_count": 102,
   "metadata": {
    "collapsed": true
   },
   "outputs": [],
   "source": [
    "train_data = all_data[:num_train]\n",
    "test_data = all_data[num_train:]"
   ]
  },
  {
   "cell_type": "code",
   "execution_count": 103,
   "metadata": {
    "scrolled": true
   },
   "outputs": [
    {
     "name": "stdout",
     "output_type": "stream",
     "text": [
      "train_data :Number of Rows 1460   Number of Columns 404\n",
      "test_data :Number of Rows 1459   Number of Columns 404\n"
     ]
    }
   ],
   "source": [
    "print('train_data :Number of Rows %i   Number of Columns %i' % train_data.shape)\n",
    "print('test_data :Number of Rows %i   Number of Columns %i' % test_data.shape)"
   ]
  },
  {
   "cell_type": "markdown",
   "metadata": {},
   "source": [
    "## ランダムフォレストによる特徴量の絞り込み"
   ]
  },
  {
   "cell_type": "code",
   "execution_count": 107,
   "metadata": {
    "collapsed": true
   },
   "outputs": [],
   "source": [
    "y = np.array(y_train_data)\n",
    "X = np.array(train_data)"
   ]
  },
  {
   "cell_type": "code",
   "execution_count": 108,
   "metadata": {
    "collapsed": true
   },
   "outputs": [],
   "source": [
    "X_train, X_test, y_train, y_test = \\\n",
    " train_test_split(X, y, test_size=0.3, random_state=1234)"
   ]
  },
  {
   "cell_type": "code",
   "execution_count": 109,
   "metadata": {
    "collapsed": true
   },
   "outputs": [],
   "source": [
    "from sklearn.ensemble import RandomForestRegressor, GradientBoostingRegressor"
   ]
  },
  {
   "cell_type": "code",
   "execution_count": 110,
   "metadata": {
    "collapsed": true
   },
   "outputs": [],
   "source": [
    "rf = RandomForestRegressor(n_estimators=1000, n_jobs=-1, max_depth=10, random_state=1234)"
   ]
  },
  {
   "cell_type": "code",
   "execution_count": 111,
   "metadata": {},
   "outputs": [
    {
     "data": {
      "text/plain": [
       "RandomForestRegressor(bootstrap=True, criterion='mse', max_depth=10,\n",
       "           max_features='auto', max_leaf_nodes=None,\n",
       "           min_impurity_decrease=0.0, min_impurity_split=None,\n",
       "           min_samples_leaf=1, min_samples_split=2,\n",
       "           min_weight_fraction_leaf=0.0, n_estimators=1000, n_jobs=-1,\n",
       "           oob_score=False, random_state=1234, verbose=0, warm_start=False)"
      ]
     },
     "execution_count": 111,
     "metadata": {},
     "output_type": "execute_result"
    }
   ],
   "source": [
    "rf.fit(X_train, y_train)"
   ]
  },
  {
   "cell_type": "code",
   "execution_count": 112,
   "metadata": {
    "collapsed": true
   },
   "outputs": [],
   "source": [
    "ypred = rf.predict(X_test)"
   ]
  },
  {
   "cell_type": "code",
   "execution_count": 113,
   "metadata": {},
   "outputs": [
    {
     "name": "stdout",
     "output_type": "stream",
     "text": [
      "Root Means Square: 0.147693420405\n"
     ]
    }
   ],
   "source": [
    "print(\"Root Means Square:\", np.sqrt(mean_squared_error(y_true=y_test, y_pred=ypred)))"
   ]
  },
  {
   "cell_type": "markdown",
   "metadata": {},
   "source": [
    "## 変数の重要度の確認"
   ]
  },
  {
   "cell_type": "code",
   "execution_count": 114,
   "metadata": {
    "collapsed": true
   },
   "outputs": [],
   "source": [
    "def varImpPlot(clf, feature_names, topN = 10, plot = True, verbose = True, imp = True):\n",
    "    feature_names = np.array(feature_names)\n",
    "    feature_importance = clf.feature_importances_\n",
    "    feature_importance = 100.0 * (feature_importance / feature_importance.max())\n",
    "    sorted_idx = np.argsort(feature_importance)\n",
    "    \n",
    "    topN_feature = feature_importance[sorted_idx][len(feature_importance) - topN:]\n",
    "    topN_feature_name = feature_names[sorted_idx][len(feature_importance) - topN:]\n",
    "    pos = np.arange(topN) + .5\n",
    "    \n",
    "    rev_sorted_idx = np.argsort(feature_importance)[::-1]\n",
    "    if plot:\n",
    "        plt.barh(pos, topN_feature, align='center')\n",
    "        plt.yticks(pos, topN_feature_name)\n",
    "        plt.xlabel('Relative Importance')\n",
    "        plt.title('Variable Importance')\n",
    "        plt.show()          \n",
    "    if verbose:\n",
    "        for i, v in zip(feature_names[rev_sorted_idx], feature_importance[rev_sorted_idx]):\n",
    "            print(i, v)\n",
    "    if imp:\n",
    "        imp_feature_name = feature_names[sorted_idx]\n",
    "        imp_feature_value = feature_importance[sorted_idx]\n",
    "        imp_feature = pd.DataFrame({'name' :imp_feature_name,\n",
    "                                    'importance' : imp_feature_value})\n",
    "        imp_feature = imp_feature.sort_values(by=['importance'], ascending=False)\n",
    "        return(imp_feature)\n"
   ]
  },
  {
   "cell_type": "code",
   "execution_count": 115,
   "metadata": {
    "scrolled": false
   },
   "outputs": [
    {
     "data": {
      "image/png": "[encoded data removed]",
      "text/plain": [
       "<matplotlib.figure.Figure at 0x1a1d3cf6a0>"
      ]
     },
     "metadata": {},
     "output_type": "display_data"
    },
    {
     "name": "stdout",
     "output_type": "stream",
     "text": [
      "BldgType_1Fam 100.0\n",
      "YearRemodAdd_div_HeatingQC_Ex 62.2251289072\n",
      "BldgType_1Fam_div_BldgType_TwnhsE 31.5206091394\n",
      "OverallQual 29.2842270601\n",
      "Condition1_Feedr 15.3010082259\n",
      "BldgType_2fmCon 4.68405444066\n",
      "CentralAir 3.00873979852\n",
      "Condition1_PosA 2.7616763108\n",
      "BldgType_Duplex 2.03310941073\n",
      "GrLivArea 1.58300630874\n",
      "BsmtQual_div_OverallQual 1.49393980454\n",
      "BsmtQual_div_KitchenQual 1.47122252439\n",
      "BsmtQual_div_YearRemodAdd 1.3641511134\n",
      "OverallCond 1.35782802383\n",
      "KitchenAbvGr_div_MSSubClass_90 1.32932866105\n",
      "BsmtFinSF1 1.29415712606\n",
      "Condition1_Norm 1.20504468439\n",
      "BldgType_Twnhs 1.18582190813\n",
      "Condition1_Artery 1.15602983131\n",
      "GarageYrBlt 1.11594776519\n",
      "1stFlrSF 0.972505623223\n",
      "BsmtUnfSF 0.917793739946\n",
      "OverallQual_div_Foundation_PConc 0.917116177819\n",
      "LotArea 0.888556511187\n",
      "ExterQual_div_FullBath 0.796312207822\n",
      "LotFrontage 0.733701137494\n",
      "HeatingQC_TA 0.726813676425\n",
      "MasVnrArea_div_MasVnrType_BrkFace 0.684305850918\n",
      "ExterQual_div_GarageYrBlt 0.637715511791\n",
      "ExterCond 0.615757089478\n",
      "Condition1_RRAe 0.608979736785\n",
      "GrLivArea_div_TotRmsAbvGrd 0.60175885627\n",
      "GarageYrBlt_div_YearBuilt 0.593940138779\n",
      "GarageQual_div_GarageType_None 0.586216625753\n",
      "GarageCars_div_YearBuilt 0.558871289731\n",
      "BsmtFinSF1_div_BsmtFullBath 0.537989854732\n",
      "GarageArea 0.537231171274\n",
      "TotalBsmtSF 0.529795563048\n",
      "BsmtExposure 0.527938719772\n",
      "GarageFinish_div_GarageType_Detchd 0.524933157283\n",
      "PoolArea_div_PoolQC 0.516000511528\n",
      "Condition1_RRAn 0.511850210582\n",
      "GarageCars_div_GrLivArea 0.505458089814\n",
      "GarageYrBlt_div_OverallQual 0.50521974271\n",
      "KitchenAbvGr_div_BldgType_Duplex 0.495719897511\n",
      "MoSold 0.492498879457\n",
      "YearRemodAdd 0.483860189533\n",
      "GarageYrBlt_div_Foundation_PConc 0.480027010166\n",
      "YearBuilt_div_Foundation_PConc 0.475750501417\n",
      "LotArea_div_LotFrontage 0.419946989318\n",
      "GarageYrBlt_div_YearRemodAdd 0.417890764832\n",
      "FireplaceQu 0.407783076505\n",
      "YearBuilt 0.391305335785\n",
      "Condition1_PosN 0.386087928046\n",
      "BsmtQual_div_YearBuilt 0.384796770294\n",
      "OpenPorchSF 0.384656645659\n",
      "FireplaceQu_div_Fireplaces 0.371310813797\n",
      "FullBath_div_GarageCars 0.368062169591\n",
      "GarageYrBlt_div_KitchenQual 0.364959843609\n",
      "ExterQual_div_YearRemodAdd 0.347796654889\n",
      "YearBuilt_div_HeatingQC_Ex 0.326744230636\n",
      "BsmtQual_div_Foundation_PConc 0.322371912604\n",
      "BsmtFinSF1_div_BsmtUnfSF 0.320715115898\n",
      "KitchenQual_div_OverallQual 0.318901723448\n",
      "TotRmsAbvGrd 0.306702668322\n",
      "GarageCars_div_OverallQual 0.306314684788\n",
      "WoodDeckSF 0.295659366248\n",
      "BsmtFinType1_div_BsmtUnfSF 0.29359161864\n",
      "BldgType_TwnhsE 0.282465973795\n",
      "HouseStyle_2.5Unf_div_MSSubClass_75 0.28141067298\n",
      "BsmtQual_div_FullBath 0.278069048525\n",
      "Exterior1st_WdShing 0.269006242703\n",
      "Condition2_Feedr_div_Condition2_Norm 0.267246078086\n",
      "GarageFinish_div_YearBuilt 0.261755531591\n",
      "BsmtQual_div_GarageYrBlt 0.257139869463\n",
      "PavedDrive 0.245608717628\n",
      "BsmtQual_div_ExterQual 0.236265300804\n",
      "EnclosedPorch 0.2328291556\n",
      "BsmtFinType1 0.232487657702\n",
      "BsmtQual_div_GarageCars 0.228269855046\n",
      "2ndFlrSF 0.218731980415\n",
      "GarageArea_div_GarageYrBlt 0.209595246038\n",
      "Exterior1st_BrkFace_div_Exterior2nd_BrkFace 0.203656501806\n",
      "FullBath_div_TotRmsAbvGrd 0.199542531897\n",
      "KitchenQual_div_YearBuilt 0.190358919937\n",
      "YrSold 0.188479145339\n",
      "LandSlope_div_LandContour_Lvl 0.186291104159\n",
      "BldgType_TwnhsE_div_MSSubClass_120 0.180535396876\n",
      "Exterior1st_AsbShng_div_Exterior2nd_AsbShng 0.17533090946\n",
      "GarageArea_div_OverallQual 0.171748204082\n",
      "BsmtFullBath 0.168286957198\n",
      "MasVnrArea 0.166919865027\n",
      "BldgType_Duplex_div_MSSubClass_90 0.16455310009\n",
      "ExterQual_div_HeatingQC_Ex 0.162994120435\n",
      "BsmtCond 0.157683422799\n",
      "Electrical_FuseA_div_Electrical_SBrkr 0.155839784771\n",
      "YearRemodAdd_div_Exterior1st_VinylSd 0.155765079348\n",
      "GarageCond_div_GarageType_None 0.151307036223\n",
      "GarageCond_div_GarageQual 0.149708756248\n",
      "BldgType_Twnhs_div_MSSubClass_160 0.148296611019\n",
      "Exterior1st_AsphShn_div_Exterior2nd_AsphShn 0.14647315857\n",
      "Fireplaces 0.136100551208\n",
      "Condition1_Feedr_div_Condition1_Norm 0.135749684353\n",
      "KitchenQual_div_Foundation_PConc 0.130558366759\n",
      "KitchenQual_div_YearRemodAdd 0.127686758233\n",
      "LandContour_Bnk 0.12451715775\n",
      "MSZoning_RH 0.118198965765\n",
      "FullBath_div_YearBuilt 0.116417224037\n",
      "KitchenQual_div_HeatingQC_Ex 0.11562566697\n",
      "KitchenQual 0.113839218684\n",
      "MiscFeature_None_div_MiscFeature_Shed 0.10930967323\n",
      "GarageArea_div_GarageCars 0.10912581749\n",
      "BsmtFinSF2_div_BsmtFinType2 0.107675669678\n",
      "ScreenPorch 0.104661116734\n",
      "GarageYrBlt_div_HeatingQC_Ex 0.104067067049\n",
      "ExterQual_div_GarageCars 0.100821645089\n",
      "ExterQual_div_OverallQual 0.0990036146791\n",
      "ExterQual_div_YearBuilt 0.0938837822386\n",
      "GarageYrBlt_div_Exterior1st_VinylSd 0.0929433674559\n",
      "OverallQual_div_YearRemodAdd 0.092492323194\n",
      "Functional 0.0886404509028\n",
      "Exterior2nd_Wd Sdng 0.0881197195216\n",
      "FullBath_div_OverallQual 0.086960488259\n",
      "BedroomAbvGr 0.0852536666083\n",
      "BsmtFinType2 0.0807425826115\n",
      "FullBath_div_GarageYrBlt 0.0805816433768\n",
      "GarageYrBlt_div_Exterior2nd_VinylSd 0.07921679076\n",
      "LotShape 0.0789883884736\n",
      "HalfBath_div_HouseStyle_2Story 0.075081606112\n",
      "FullBath_div_GrLivArea 0.0736926707116\n",
      "ExterQual_div_Foundation_PConc 0.0736915379144\n",
      "MSSubClass_180 0.0702250515856\n",
      "SaleCondition_Abnorml_div_SaleCondition_Normal 0.0685775081275\n",
      "MasVnrArea_div_MasVnrType_None 0.0684553091542\n",
      "HeatingQC_Ex 0.0682547513736\n",
      "Exterior2nd_CmentBd_div_Neighborhood_MeadowV 0.0672515983385\n",
      "MiscFeature_Shed 0.0671205071931\n",
      "Condition2_PosA 0.0651756771496\n",
      "GarageCars_div_KitchenQual 0.0639720924737\n",
      "BldgType_1Fam_div_MSSubClass_120 0.0638316093112\n",
      "KitchenAbvGr 0.063436224284\n",
      "Fence 0.0609092926668\n",
      "Alley 0.0574902893644\n",
      "LandContour_HLS_div_LandContour_Lvl 0.0572420793914\n",
      "GarageFinish 0.056710191528\n",
      "YearBuilt_div_Exterior1st_VinylSd 0.0559212416769\n",
      "RoofMatl_CompShg_div_RoofStyle_Flat 0.0539426874589\n",
      "MSZoning_FV 0.0505198310158\n",
      "ExterQual_div_KitchenQual 0.0476055405591\n",
      "LandContour_Lvl 0.0416101169195\n",
      "GrLivArea_div_OverallQual 0.0399729249802\n",
      "SaleType_Con 0.0391638578098\n",
      "HalfBath_div_MSSubClass_60 0.0390323485966\n",
      "GarageType_None 0.037768474674\n",
      "LandSlope 0.0369602868378\n",
      "BedroomAbvGr_div_GrLivArea 0.0362997635351\n",
      "SaleCondition_Partial_div_SaleType_WD 0.0361931243253\n",
      "MSSubClass_70 0.0356628517809\n",
      "GarageCond 0.0350703435083\n",
      "SaleType_New 0.0343867987745\n",
      "YearBuilt_div_Exterior2nd_VinylSd 0.0334826800635\n",
      "Exterior1st_Stucco 0.0331679464135\n",
      "TotalSFRate 0.0322870265313\n",
      "GarageCars_div_GarageYrBlt 0.0312773670493\n",
      "BsmtQual 0.0309735866004\n",
      "MiscVal_div_MiscFeature_None 0.0305870618035\n",
      "TotalSFMean 0.0300412045607\n",
      "LotAreaMean 0.0292416682594\n",
      "YearBuilt_div_YearRemodAdd 0.0288737289882\n",
      "MSSubClass_30 0.0286181914286\n",
      "LotAreaRate 0.0281328866156\n",
      "MSSubClass_45 0.0277265667873\n",
      "GarageType_CarPort 0.0274717933928\n",
      "FullBath 0.0260789823268\n",
      "Neighborhood_BrDale 0.0260415717546\n",
      "GarageQual 0.0259892452036\n",
      "Condition2_RRAe 0.025347943827\n",
      "SaleCondition_Partial_div_SaleType_New 0.0252519832662\n",
      "SaleCondition_Normal_div_SaleType_New 0.0241887562067\n",
      "SaleType_ConLD 0.0240502317677\n",
      "Heating_Floor 0.023954896973\n",
      "GarageCars 0.023694739259\n",
      "Utilities_NoSeWa 0.0232541069302\n",
      "GarageArea_div_YearBuilt 0.0226748733119\n",
      "MasVnrType_BrkFace 0.0225110760367\n",
      "MasVnrType_None 0.0221616743392\n",
      "SaleType_CWD 0.0220045822378\n",
      "Neighborhood_Blueste 0.0219552730593\n",
      "RoofMatl_Roll 0.0215987992908\n",
      "HouseStyle_1Story_div_HouseStyle_2Story 0.0215663938027\n",
      "BsmtFinSF2 0.0208877261194\n",
      "HalfBath 0.0207631568012\n",
      "Neighborhood_CollgCr 0.0199484285691\n",
      "Exterior1st_CemntBd_div_Neighborhood_MeadowV 0.0198508645396\n",
      "GrLivAreaRate 0.0196839038954\n",
      "2ndFlrSF_div_BedroomAbvGr 0.0193884304676\n",
      "LandContour_HLS 0.0193624703257\n",
      "MSSubClass_40 0.0192595504692\n",
      "HouseStyle_SLvl_div_MSSubClass_80 0.0188464682231\n",
      "Exterior1st_MetalSd 0.0188453593094\n",
      "Neighborhood_NoRidge 0.0187439856407\n",
      "Exterior2nd_Plywood 0.0184616269102\n",
      "LandContour_Bnk_div_LandContour_Lvl 0.0166188299695\n",
      "Condition2_PosN 0.0165591314656\n",
      "Exterior2nd_AsbShng 0.0164911189066\n",
      "OverallQual_div_YearBuilt 0.016063733842\n",
      "Foundation_PConc 0.0159829637818\n",
      "Neighborhood_ClearCr 0.0158759996644\n",
      "MSSubClass_120 0.0157536683865\n",
      "SaleType_New_div_SaleType_WD 0.0153324370499\n",
      "Neighborhood_Sawyer 0.0152029295382\n",
      "Neighborhood_Veenker 0.0149976860958\n",
      "Condition1_RRNe 0.0149426754766\n",
      "HouseStyle_SLvl 0.0147931675007\n",
      "Exterior1st_CemntBd_div_Exterior2nd_CmentBd 0.0145224342671\n",
      "Neighborhood_BrkSide 0.0144665728651\n",
      "Exterior2nd_BrkFace 0.0143750405096\n",
      "3SsnPorch 0.0134293282561\n",
      "Exterior1st_VinylSd_div_Exterior2nd_VinylSd 0.0130010921118\n",
      "Neighborhood_Crawfor 0.0129401245996\n",
      "LotConfig_FR2 0.0128531373078\n",
      "ExterQual 0.0128492615418\n",
      "RoofStyle_Flat 0.012602405532\n",
      "MasVnrType_BrkFace_div_MasVnrType_None 0.0125527579042\n",
      "MasVnrType_BrkCmn 0.0122638996626\n",
      "MiscVal_div_MiscFeature_Shed 0.0121826757074\n",
      "MSZoning_RL_div_MSZoning_RM 0.0120959951251\n",
      "HeatingQC_Po 0.0120380786302\n",
      "MiscFeature_Othr 0.0117620369962\n",
      "Heating_GasA 0.0114563523266\n",
      "Neighborhood_OldTown 0.0113379502718\n",
      "LotConfig_Corner 0.0112337905143\n",
      "Neighborhood_Somerst 0.0111856658939\n",
      "HouseStyle_2Story_div_MSSubClass_60 0.0107175687831\n",
      "MiscFeature_Gar2 0.0103957408661\n",
      "Foundation_PConc_div_HeatingQC_Ex 0.0102390131249\n",
      "Exterior1st_ImStucc 0.00998973512192\n",
      "MSSubClass_160 0.00998925429717\n",
      "2ndFlrSF_div_MSSubClass_20 0.00993748798643\n",
      "Exterior2nd_CmentBd 0.00974706030269\n",
      "HouseStyle_SFoyer_div_MSSubClass_85 0.00965988626203\n",
      "SaleType_WD 0.0096127120389\n",
      "GarageType_Attchd_div_GarageType_Detchd 0.00919020350146\n",
      "TotalBsmtSFRate 0.00914270245579\n",
      "Condition2_Artery 0.00893059919133\n",
      "HouseStyle_1.5Fin_div_MSSubClass_50 0.00891983181963\n",
      "1stFlrSF_div_TotalBsmtSF 0.00877422495756\n",
      "TotalBsmtSFMean 0.00873497491431\n",
      "BsmtHalfBath 0.00844594144771\n",
      "MSZoning_FV_div_Neighborhood_Somerst 0.00841953862971\n",
      "Exterior1st_AsphShn 0.00829013906202\n",
      "HouseStyle_1.5Unf_div_MSSubClass_45 0.00819219176271\n",
      "Exterior1st_MetalSd_div_Exterior2nd_MetalSd 0.00807409837241\n",
      "GarageType_BuiltIn 0.0080116941341\n",
      "SaleCondition_Normal_div_SaleCondition_Partial 0.0079613628949\n",
      "LowQualFinSF 0.00772312531707\n",
      "RoofStyle_Gable_div_RoofStyle_Hip 0.0076659309716\n",
      "Foundation_Stone 0.00762783217094\n",
      "Exterior2nd_Brk Cmn 0.00736421575534\n",
      "Exterior1st_Wd Sdng_div_Exterior2nd_Wd Sdng 0.00728406700002\n",
      "HeatingQC_Gd 0.00724743645282\n",
      "Exterior2nd_Wd Shng 0.00642748921322\n",
      "YearRemodAdd_div_Exterior2nd_VinylSd 0.00637106299106\n",
      "RoofStyle_Gable 0.00616029972129\n",
      "Foundation_CBlock_div_Foundation_PConc 0.00611850119321\n",
      "Neighborhood_Gilbert 0.00596098269\n",
      "YearRemodAdd_div_Foundation_PConc 0.00590969218954\n",
      "Electrical_FuseF 0.00580753861725\n",
      "MSSubClass_190 0.00565812754295\n",
      "Utilities_AllPub_div_Utilities_NoSeWa 0.00552275350006\n",
      "RoofMatl_WdShake 0.00545720267707\n",
      "GarageType_Detchd 0.00541169918496\n",
      "MSSubClass_50 0.00535618321171\n",
      "GarageType_2Types 0.00535140277749\n",
      "GarageType_Basment 0.00529211391143\n",
      "Heating_GasA_div_Heating_GasW 0.00522068402902\n",
      "Foundation_CBlock 0.00512791840493\n",
      "1stFlrSFMean 0.0051008673941\n",
      "MSSubClass_20 0.00505088139669\n",
      "Exterior2nd_Other 0.00500585229772\n",
      "HeatingQC_Fa 0.00494850297434\n",
      "Exterior2nd_MetalSd 0.00490950629473\n",
      "HouseStyle_1Story 0.00478285653225\n",
      "QualYear 0.00472869525341\n",
      "Exterior2nd_VinylSd_div_Foundation_PConc 0.00471067209593\n",
      "Exterior1st_Plywood_div_Exterior2nd_Plywood 0.00459713308347\n",
      "Neighborhood_Blmngtn 0.00442127329447\n",
      "TotalSF 0.00441197482621\n",
      "RoofMatl_Membran 0.00435785775203\n",
      "Exterior1st_VinylSd 0.00421147489651\n",
      "MiscVal 0.00410714582267\n",
      "Exterior2nd_HdBoard 0.00406511647948\n",
      "RoofMatl_WdShngl 0.00393971504366\n",
      "2ndFlrSF_div_GrLivArea 0.00392651157173\n",
      "RoofMatl_CompShg 0.00362918575136\n",
      "HouseStyle_1.5Fin 0.00355580574783\n",
      "HeatingQC_Ex_div_HeatingQC_TA 0.00355063307814\n",
      "MiscFeature_TenC 0.00347182589936\n",
      "Neighborhood_StoneBr 0.00345605550493\n",
      "SaleCondition_Normal_div_SaleType_WD 0.00327917428539\n",
      "Condition2_Feedr 0.00320153187435\n",
      "Neighborhood_SWISU 0.00313857838576\n",
      "MSSubClass_60 0.00310169663141\n",
      "RoofStyle_Shed 0.0030297019517\n",
      "LotConfig_Corner_div_LotConfig_Inside 0.0030270798861\n",
      "Condition2_Norm 0.00273429740182\n",
      "Exterior1st_Stucco_div_Exterior2nd_Stucco 0.00270226131636\n",
      "Exterior1st_WdShing_div_Exterior2nd_Wd Shng 0.00268650169973\n",
      "Utilities_AllPub 0.00263865268556\n",
      "PoolQC 0.00259436882499\n",
      "Neighborhood_SawyerW 0.00251137839553\n",
      "RoofMatl_Tar&Grv_div_RoofStyle_Flat 0.00249189551187\n",
      "Condition1_RRNn 0.00238652124103\n",
      "RoofStyle_Gambrel 0.00222197993596\n",
      "MSZoning_C (all) 0.00221597283807\n",
      "Exterior2nd_Stone 0.00217801264974\n",
      "Exterior1st_HdBoard_div_Exterior2nd_HdBoard 0.00207304934468\n",
      "HouseStyle_2.5Unf 0.0020328311493\n",
      "Heating_GasW 0.00202699306442\n",
      "Neighborhood_MeadowV 0.00190486277796\n",
      "RoofMatl_Metal 0.00189462563198\n",
      "MSZoning_RM_div_Neighborhood_OldTown 0.00186771018125\n",
      "Electrical_FuseA 0.00179673951753\n",
      "BldgType_2fmCon_div_MSSubClass_190 0.0016195123591\n",
      "Exterior1st_Plywood 0.00156306958584\n",
      "HouseStyle_1Story_div_MSSubClass_20 0.00156251543655\n",
      "Condition2_RRNn 0.00151423088109\n",
      "Exterior2nd_Stucco 0.00146925938993\n",
      "Neighborhood_Timber 0.00145876668311\n",
      "LotConfig_FR3 0.00145707882786\n",
      "MSSubClass_75 0.00144074148054\n",
      "MSSubClass_85 0.00132175818913\n",
      "RoofMatl_Tar&Grv 0.00131030312387\n",
      "PoolArea 0.00121944946252\n",
      "RoofStyle_Mansard 0.00120390950027\n",
      "HouseStyle_2.5Fin 0.00117072718648\n",
      "2ndFlrSF_div_TotRmsAbvGrd 0.00114818207033\n",
      "SaleType_COD 0.00113226398604\n",
      "Neighborhood_NridgHt 0.0011244961653\n",
      "Street 0.00106048214251\n",
      "2ndFlrSF_div_MSSubClass_60 0.00103505533421\n",
      "Heating_Wall 0.000987333230963\n",
      "MSSubClass_150 0.000928962977038\n",
      "MasVnrType_Stone 0.000904492267233\n",
      "SaleCondition_Family 0.000772118014953\n",
      "Neighborhood_IDOTRR 0.000747144173977\n",
      "RoofStyle_Hip 0.000685742782581\n",
      "LotConfig_Inside 0.000682860375018\n",
      "Foundation_Slab 0.000663394165328\n",
      "LotConfig_CulDSac 0.000649741102671\n",
      "Neighborhood_NAmes 0.000624853152825\n",
      "Exterior1st_AsbShng 0.000603818105452\n",
      "2ndFlrSF_div_HouseStyle_2Story 0.000547723491664\n",
      "HouseStyle_1.5Unf 0.000533015974855\n",
      "MSSubClass_90 0.000509249071035\n",
      "Exterior1st_HdBoard 0.000507504807864\n",
      "Heating_Grav 0.000410971993025\n",
      "Exterior1st_VinylSd_div_Foundation_PConc 0.000406318247215\n",
      "Neighborhood_NWAmes 0.000379144074537\n",
      "HouseStyle_SFoyer 0.000351485930864\n",
      "SaleCondition_AdjLand 0.000336323671263\n",
      "MSZoning_RM 0.000327145989947\n",
      "SaleCondition_Partial 0.000326240651274\n",
      "GrLivAreaMean 0.000280077523589\n",
      "SaleType_ConLI 0.000256197468055\n",
      "Heating_OthW 0.000245082798236\n",
      "Foundation_Wood 0.000235372263753\n",
      "Condition2_RRAn 0.000232981729436\n",
      "Electrical_Mix 0.000186468621108\n",
      "2ndFlrSF_div_HouseStyle_1Story 0.000176041184597\n",
      "HouseStyle_2Story 0.000172271011033\n",
      "Exterior2nd_VinylSd 0.000155869222064\n",
      "RoofMatl_ClyTile 0.000150425515742\n",
      "MiscFeature_None 0.000149481574498\n",
      "SaleCondition_Abnorml 0.000149159025013\n",
      "Foundation_BrkTil 0.000142673046398\n",
      "RoofMatl_CompShg_div_RoofMatl_Tar&Grv 0.000132372576118\n",
      "Neighborhood_Edwards 0.000119975159347\n",
      "Neighborhood_Mitchel 0.000102237901781\n",
      "SaleCondition_Normal 8.7266895479e-05\n",
      "Exterior1st_BrkFace 8.50364277423e-05\n",
      "GarageType_Attchd 8.29812849499e-05\n",
      "MSZoning_RL 7.72964217035e-05\n",
      "Electrical_SBrkr 6.01645942547e-05\n",
      "SaleType_Oth 5.4183100625e-05\n",
      "BedroomAbvGr_div_TotRmsAbvGrd 5.02389284163e-05\n",
      "BsmtFinSF1_div_BsmtFinType1 4.76130517619e-05\n",
      "2ndFlrSF_div_HalfBath 4.61688356848e-05\n",
      "LandContour_Low 4.53471004296e-05\n",
      "1stFlrSFRate 3.67142120057e-05\n",
      "Exterior2nd_AsphShn 3.30908318452e-05\n",
      "SaleType_ConLw 7.61854348044e-06\n",
      "Exterior2nd_ImStucc 7.46892176301e-06\n",
      "Exterior2nd_CBlock 3.31068409147e-06\n",
      "Exterior1st_BrkComm 2.18748917347e-06\n",
      "Exterior1st_CBlock 8.33918183704e-07\n",
      "Neighborhood_NPkVill 2.47114273034e-07\n",
      "Exterior1st_CemntBd 0.0\n",
      "Exterior1st_Stone 0.0\n",
      "Exterior1st_Wd Sdng 0.0\n",
      "Exterior2nd_Brk Cmn_div_Neighborhood_NPkVill 0.0\n",
      "Electrical_FuseP 0.0\n",
      "MSSubClass_80 0.0\n",
      "SaleCondition_Alloca 0.0\n"
     ]
    }
   ],
   "source": [
    "varImpPlot(rf, feature_cols, topN=20, plot=True, verbose=True, imp=False)"
   ]
  },
  {
   "cell_type": "markdown",
   "metadata": {},
   "source": [
    "## 一定の重要度がなければ削除して再度モデル構築"
   ]
  },
  {
   "cell_type": "code",
   "execution_count": 116,
   "metadata": {
    "collapsed": true
   },
   "outputs": [],
   "source": [
    "cut_value = 0.2 #削除する閾値\n",
    "feature_importance = rf.feature_importances_\n",
    "feature_importance = 100.0 * (feature_importance / feature_importance.max())\n",
    "feature_cols_ar = np.array(feature_cols)\n",
    "new_feature_cols = feature_cols_ar[feature_importance > cut_value]"
   ]
  },
  {
   "cell_type": "code",
   "execution_count": 119,
   "metadata": {
    "collapsed": true
   },
   "outputs": [],
   "source": [
    "#追加したい特徴量\n",
    "add_cols = ['Neighborhood_Edwards']\n",
    "new_feature_cols = np.append(new_feature_cols, [add_cols])"
   ]
  },
  {
   "cell_type": "code",
   "execution_count": 123,
   "metadata": {
    "collapsed": true
   },
   "outputs": [],
   "source": [
    "y = np.array(y_train_data)\n",
    "X = np.array(train_data[new_feature_cols])"
   ]
  },
  {
   "cell_type": "code",
   "execution_count": 124,
   "metadata": {
    "collapsed": true
   },
   "outputs": [],
   "source": [
    "X_train, X_test, y_train, y_test = \\\n",
    " train_test_split(X, y, test_size=0.3, random_state=1234)"
   ]
  },
  {
   "cell_type": "code",
   "execution_count": 125,
   "metadata": {
    "collapsed": true
   },
   "outputs": [],
   "source": [
    "rf2 = RandomForestRegressor(n_estimators=500, n_jobs=-1, max_depth=10, random_state=1234)\n",
    "rf2.fit(X_train, y_train)\n",
    "y_pred = rf2.predict(X_test)"
   ]
  },
  {
   "cell_type": "code",
   "execution_count": 126,
   "metadata": {},
   "outputs": [
    {
     "name": "stdout",
     "output_type": "stream",
     "text": [
      "Root Means Square: 0.147441360377\n"
     ]
    }
   ],
   "source": [
    "print(\"Root Means Square:\", np.sqrt(mean_squared_error(y_true=y_test, y_pred=y_pred)))"
   ]
  },
  {
   "cell_type": "markdown",
   "metadata": {},
   "source": [
    "### 変数増加法で変数選択をしてみる"
   ]
  },
  {
   "cell_type": "code",
   "execution_count": 130,
   "metadata": {
    "collapsed": true
   },
   "outputs": [],
   "source": [
    "def get_gfs_feature_indices(X, y, features, clf):\n",
    "    X_train_, X_test_, y_train_, y_test_ = \\\n",
    "        train_test_split(X, y, test_size=0.3, random_state=1)\n",
    "    \n",
    "    #どの特徴量が何列目にあるかを辞書型で保持\n",
    "    feature_indices = {feature: idx for idx, feature in enumerate(features)}\n",
    "   \n",
    "    # 特徴量をユニークにする\n",
    "    features = set(features)\n",
    "    \n",
    "    # 評価（MSE）の初期化\n",
    "    last_mse = np.inf\n",
    "    \n",
    "    #選ばれた特徴量を保存するための空集合を用意\n",
    "    chosen_features = set()\n",
    "\n",
    "    while len(chosen_features) < len(features):\n",
    "        mse_features = []\n",
    "        \n",
    "        # 集合は引き算すると差集合\n",
    "        for feature in (features - chosen_features):\n",
    "            candidates = chosen_features.union(set([feature]))\n",
    "            indices = [feature_indices[feature] for feature in candidates]\n",
    "            clf.fit(X_train_[:, indices], y_train_)\n",
    "            y_pred = clf.predict(X_test_[:, indices])\n",
    "            mse = mean_squared_error(y_test_, y_pred)\n",
    "            mse_features += [(mse, feature)]\n",
    "            #print('□for:', mse, feature)\n",
    "        mse, feature = min(mse_features, key= lambda x:x[0])\n",
    "        \n",
    "        if mse >= last_mse:\n",
    "            break\n",
    "        last_mse = mse\n",
    "        print('■Newly Added Feature: {},\\tRMSE Score: {}'.format(feature, np.sqrt(mse)))\n",
    "        chosen_features.add(feature)\n",
    "    return [feature_indices[feature] for feature in chosen_features]"
   ]
  },
  {
   "cell_type": "code",
   "execution_count": 131,
   "metadata": {
    "scrolled": true
   },
   "outputs": [
    {
     "name": "stdout",
     "output_type": "stream",
     "text": [
      "■Newly Added Feature: GarageCars_div_OverallQual,\tRMSE Score: 0.24664002419059622\n",
      "■Newly Added Feature: 1stFlrSF,\tRMSE Score: 0.2276217713516139\n",
      "■Newly Added Feature: BsmtQual_div_GarageCars,\tRMSE Score: 0.21658003288799274\n",
      "■Newly Added Feature: OverallQual_div_Foundation_PConc,\tRMSE Score: 0.2104956230934181\n",
      "■Newly Added Feature: BsmtFinSF1_div_BsmtUnfSF,\tRMSE Score: 0.1998078051547318\n",
      "■Newly Added Feature: 2ndFlrSF,\tRMSE Score: 0.1859651770198756\n",
      "■Newly Added Feature: CentralAir,\tRMSE Score: 0.17987774090616193\n",
      "■Newly Added Feature: LotArea,\tRMSE Score: 0.17464828373951005\n",
      "■Newly Added Feature: OverallCond,\tRMSE Score: 0.1704632025161528\n",
      "■Newly Added Feature: GarageFinish_div_YearBuilt,\tRMSE Score: 0.1663823662451616\n",
      "■Newly Added Feature: FireplaceQu_div_Fireplaces,\tRMSE Score: 0.1633627541871256\n",
      "■Newly Added Feature: OpenPorchSF,\tRMSE Score: 0.15999266360076853\n",
      "■Newly Added Feature: BsmtFinSF1,\tRMSE Score: 0.15971147012925033\n",
      "■Newly Added Feature: Condition1_PosN,\tRMSE Score: 0.1593238489147368\n",
      "■Newly Added Feature: BldgType_Twnhs,\tRMSE Score: 0.1590287895534479\n",
      "■Newly Added Feature: BsmtFinType1,\tRMSE Score: 0.1589411330320227\n",
      "■Newly Added Feature: GarageQual_div_GarageType_None,\tRMSE Score: 0.15844901159472582\n",
      "■Newly Added Feature: Condition1_RRAn,\tRMSE Score: 0.15834444313555568\n"
     ]
    }
   ],
   "source": [
    "selected_feature_index = \\\n",
    "get_gfs_feature_indices(X=X_train, \n",
    "                        y=y_train, \n",
    "                        features = new_feature_cols.tolist(), \n",
    "                        clf=RandomForestRegressor(random_state=1234, n_estimators=500, n_jobs=-1, max_depth=10))"
   ]
  },
  {
   "cell_type": "code",
   "execution_count": 132,
   "metadata": {},
   "outputs": [
    {
     "name": "stdout",
     "output_type": "stream",
     "text": [
      "Root Means Square: 0.15684361184\n"
     ]
    }
   ],
   "source": [
    "rf3 = RandomForestRegressor(random_state=1234, n_estimators=1000, n_jobs=-1, max_depth=10)\n",
    "rf3.fit(X_train[:, selected_feature_index], y_train)\n",
    "y_pred = rf3.predict(X_test[:, selected_feature_index])\n",
    "print(\"Root Means Square:\", np.sqrt(mean_squared_error(y_true=y_test, y_pred=y_pred)))"
   ]
  },
  {
   "cell_type": "code",
   "execution_count": 133,
   "metadata": {},
   "outputs": [
    {
     "data": {
      "text/plain": [
       "[62, 17, 36, 44, 6, 34, 28, 58, 60, 4, 40, 3, 13, 16, 54, 1, 74, 0]"
      ]
     },
     "execution_count": 133,
     "metadata": {},
     "output_type": "execute_result"
    }
   ],
   "source": [
    "selected_feature_index"
   ]
  },
  {
   "cell_type": "markdown",
   "metadata": {
    "collapsed": true
   },
   "source": [
    "## 機械学習モデルを作る - ランダムフォレスト編"
   ]
  },
  {
   "cell_type": "code",
   "execution_count": 137,
   "metadata": {
    "collapsed": true
   },
   "outputs": [],
   "source": [
    "from sklearn.ensemble import RandomForestClassifier"
   ]
  },
  {
   "cell_type": "markdown",
   "metadata": {
    "collapsed": true
   },
   "source": [
    "### ハイパーパラメーターのチューニング"
   ]
  },
  {
   "cell_type": "code",
   "execution_count": 140,
   "metadata": {
    "collapsed": true
   },
   "outputs": [],
   "source": [
    "params = {'n_estimators' :[1000,1500], 'max_depth':[10],}"
   ]
  },
  {
   "cell_type": "code",
   "execution_count": 141,
   "metadata": {
    "collapsed": true
   },
   "outputs": [],
   "source": [
    "params = {'n_estimators' :[100,300,500], 'max_depth':[3,5,10,None],'max_features':['auto','sqrt','log2',None]}"
   ]
  },
  {
   "cell_type": "code",
   "execution_count": 142,
   "metadata": {
    "collapsed": true
   },
   "outputs": [],
   "source": [
    "rf4 = RandomForestRegressor()"
   ]
  },
  {
   "cell_type": "code",
   "execution_count": 144,
   "metadata": {
    "collapsed": true
   },
   "outputs": [],
   "source": [
    "gcv = GridSearchCV(rf4, param_grid=params, n_jobs=-1, scoring='r2')"
   ]
  },
  {
   "cell_type": "code",
   "execution_count": 145,
   "metadata": {
    "scrolled": true
   },
   "outputs": [
    {
     "data": {
      "text/plain": [
       "GridSearchCV(cv=None, error_score='raise',\n",
       "       estimator=RandomForestRegressor(bootstrap=True, criterion='mse', max_depth=None,\n",
       "           max_features='auto', max_leaf_nodes=None,\n",
       "           min_impurity_decrease=0.0, min_impurity_split=None,\n",
       "           min_samples_leaf=1, min_samples_split=2,\n",
       "           min_weight_fraction_leaf=0.0, n_estimators=10, n_jobs=1,\n",
       "           oob_score=False, random_state=None, verbose=0, warm_start=False),\n",
       "       fit_params={}, iid=True, n_jobs=-1,\n",
       "       param_grid={'n_estimators': [100, 300, 500], 'max_depth': [3, 5, 10, None], 'max_features': ['auto', 'sqrt', 'log2', None]},\n",
       "       pre_dispatch='2*n_jobs', refit=True, scoring='r2', verbose=0)"
      ]
     },
     "execution_count": 145,
     "metadata": {},
     "output_type": "execute_result"
    }
   ],
   "source": [
    "gcv.fit(X_train[:, selected_feature_index], y_train)"
   ]
  },
  {
   "cell_type": "code",
   "execution_count": 146,
   "metadata": {},
   "outputs": [
    {
     "data": {
      "text/plain": [
       "{'max_depth': None, 'max_features': 'log2', 'n_estimators': 500}"
      ]
     },
     "execution_count": 146,
     "metadata": {},
     "output_type": "execute_result"
    }
   ],
   "source": [
    "gcv.best_params_"
   ]
  },
  {
   "cell_type": "code",
   "execution_count": 147,
   "metadata": {},
   "outputs": [
    {
     "data": {
      "text/plain": [
       "0.8437201519832325"
      ]
     },
     "execution_count": 147,
     "metadata": {},
     "output_type": "execute_result"
    }
   ],
   "source": [
    "gcv.best_score_"
   ]
  },
  {
   "cell_type": "markdown",
   "metadata": {},
   "source": [
    "### チューニングしたパラメータでモデルを作る"
   ]
  },
  {
   "cell_type": "code",
   "execution_count": 149,
   "metadata": {
    "collapsed": true
   },
   "outputs": [],
   "source": [
    "rf = RandomForestRegressor(n_jobs=-1, \n",
    "                           max_depth=None,\n",
    "                           max_features='sqrt',\n",
    "                           n_estimators=500)"
   ]
  },
  {
   "cell_type": "code",
   "execution_count": 150,
   "metadata": {
    "scrolled": false
   },
   "outputs": [
    {
     "data": {
      "text/plain": [
       "RandomForestRegressor(bootstrap=True, criterion='mse', max_depth=None,\n",
       "           max_features='sqrt', max_leaf_nodes=None,\n",
       "           min_impurity_decrease=0.0, min_impurity_split=None,\n",
       "           min_samples_leaf=1, min_samples_split=2,\n",
       "           min_weight_fraction_leaf=0.0, n_estimators=500, n_jobs=-1,\n",
       "           oob_score=False, random_state=None, verbose=0, warm_start=False)"
      ]
     },
     "execution_count": 150,
     "metadata": {},
     "output_type": "execute_result"
    }
   ],
   "source": [
    "rf.fit(X_train[:, selected_feature_index], y_train)"
   ]
  },
  {
   "cell_type": "markdown",
   "metadata": {},
   "source": [
    "### 予測"
   ]
  },
  {
   "cell_type": "code",
   "execution_count": 151,
   "metadata": {
    "collapsed": true
   },
   "outputs": [],
   "source": [
    "y_pred = rf.predict(X_test[:, selected_feature_index])"
   ]
  },
  {
   "cell_type": "markdown",
   "metadata": {},
   "source": [
    "### モデルの性能評価"
   ]
  },
  {
   "cell_type": "markdown",
   "metadata": {},
   "source": [
    "RMSE"
   ]
  },
  {
   "cell_type": "code",
   "execution_count": 152,
   "metadata": {},
   "outputs": [
    {
     "name": "stdout",
     "output_type": "stream",
     "text": [
      "Root Means Square: 0.157964377278\n"
     ]
    }
   ],
   "source": [
    "print(\"Root Means Square:\", np.sqrt(mean_squared_error(y_true=y_test, y_pred=y_pred)))"
   ]
  },
  {
   "cell_type": "code",
   "execution_count": null,
   "metadata": {
    "collapsed": true
   },
   "outputs": [],
   "source": []
  },
  {
   "cell_type": "markdown",
   "metadata": {},
   "source": [
    "## 機械学習モデルを作る - AdaBoost"
   ]
  },
  {
   "cell_type": "code",
   "execution_count": 153,
   "metadata": {
    "collapsed": true
   },
   "outputs": [],
   "source": [
    "from sklearn.ensemble import AdaBoostRegressor"
   ]
  },
  {
   "cell_type": "code",
   "execution_count": 157,
   "metadata": {
    "collapsed": true
   },
   "outputs": [],
   "source": [
    "params = {'n_estimators' :[2000,3000], 'learning_rate':[3]}"
   ]
  },
  {
   "cell_type": "code",
   "execution_count": 158,
   "metadata": {
    "collapsed": true
   },
   "outputs": [],
   "source": [
    "ada = AdaBoostRegressor()"
   ]
  },
  {
   "cell_type": "code",
   "execution_count": 160,
   "metadata": {
    "collapsed": true
   },
   "outputs": [],
   "source": [
    "gcv = GridSearchCV(ada, param_grid=params, n_jobs=-1, scoring='r2')"
   ]
  },
  {
   "cell_type": "code",
   "execution_count": 161,
   "metadata": {
    "scrolled": true
   },
   "outputs": [
    {
     "data": {
      "text/plain": [
       "GridSearchCV(cv=None, error_score='raise',\n",
       "       estimator=AdaBoostRegressor(base_estimator=None, learning_rate=1.0, loss='linear',\n",
       "         n_estimators=50, random_state=None),\n",
       "       fit_params={}, iid=True, n_jobs=-1,\n",
       "       param_grid={'n_estimators': [2000, 3000], 'learning_rate': [3]},\n",
       "       pre_dispatch='2*n_jobs', refit=True, scoring='r2', verbose=0)"
      ]
     },
     "execution_count": 161,
     "metadata": {},
     "output_type": "execute_result"
    }
   ],
   "source": [
    "gcv.fit(X_train, y_train)"
   ]
  },
  {
   "cell_type": "code",
   "execution_count": 162,
   "metadata": {},
   "outputs": [
    {
     "data": {
      "text/plain": [
       "{'learning_rate': 3, 'n_estimators': 3000}"
      ]
     },
     "execution_count": 162,
     "metadata": {},
     "output_type": "execute_result"
    }
   ],
   "source": [
    "gcv.best_params_"
   ]
  },
  {
   "cell_type": "code",
   "execution_count": 163,
   "metadata": {
    "scrolled": true
   },
   "outputs": [
    {
     "data": {
      "text/plain": [
       "0.8347626633533968"
      ]
     },
     "execution_count": 163,
     "metadata": {},
     "output_type": "execute_result"
    }
   ],
   "source": [
    "gcv.best_score_"
   ]
  },
  {
   "cell_type": "code",
   "execution_count": 164,
   "metadata": {
    "collapsed": true
   },
   "outputs": [],
   "source": [
    "#np.sqrt(np.sqrt((gcv.best_score_)**2))"
   ]
  },
  {
   "cell_type": "markdown",
   "metadata": {},
   "source": [
    "### チューニングしたパラメータでモデルを作る"
   ]
  },
  {
   "cell_type": "code",
   "execution_count": 165,
   "metadata": {
    "collapsed": true
   },
   "outputs": [],
   "source": [
    "ada = AdaBoostRegressor(learning_rate=3, n_estimators=2000)"
   ]
  },
  {
   "cell_type": "code",
   "execution_count": 166,
   "metadata": {
    "scrolled": true
   },
   "outputs": [
    {
     "data": {
      "text/plain": [
       "AdaBoostRegressor(base_estimator=None, learning_rate=3, loss='linear',\n",
       "         n_estimators=2000, random_state=None)"
      ]
     },
     "execution_count": 166,
     "metadata": {},
     "output_type": "execute_result"
    }
   ],
   "source": [
    "ada.fit(X_train, y_train)"
   ]
  },
  {
   "cell_type": "markdown",
   "metadata": {},
   "source": [
    "### 予測"
   ]
  },
  {
   "cell_type": "code",
   "execution_count": 167,
   "metadata": {
    "collapsed": true
   },
   "outputs": [],
   "source": [
    "y_pred = ada.predict(X_test)"
   ]
  },
  {
   "cell_type": "markdown",
   "metadata": {},
   "source": [
    "### モデルの性能評価"
   ]
  },
  {
   "cell_type": "markdown",
   "metadata": {},
   "source": [
    "RMSE"
   ]
  },
  {
   "cell_type": "code",
   "execution_count": 168,
   "metadata": {},
   "outputs": [
    {
     "name": "stdout",
     "output_type": "stream",
     "text": [
      "Root Means Square: 0.16001543229\n"
     ]
    }
   ],
   "source": [
    "print(\"Root Means Square:\", np.sqrt(mean_squared_error(y_true=y_test, y_pred=y_pred)))"
   ]
  },
  {
   "cell_type": "markdown",
   "metadata": {},
   "source": [
    "## 機械学習モデルを作る - ニューラルネットワーク"
   ]
  },
  {
   "cell_type": "code",
   "execution_count": 169,
   "metadata": {
    "collapsed": true
   },
   "outputs": [],
   "source": [
    "from sklearn.neural_network import MLPRegressor"
   ]
  },
  {
   "cell_type": "code",
   "execution_count": 174,
   "metadata": {
    "collapsed": true
   },
   "outputs": [],
   "source": [
    "params = {'max_iter' :[100,300,500], \n",
    "          'hidden_layer_sizes':[(100,100,100,100,100,100,100,100,100,100)\n",
    "                                ,(100,100,100,100,100,100,100,100,100,100,100,100,100,100,100,100,100,100,100,100)\n",
    "                               ]}"
   ]
  },
  {
   "cell_type": "code",
   "execution_count": 175,
   "metadata": {
    "collapsed": true
   },
   "outputs": [],
   "source": [
    "params = {'max_iter' :[100,300,500], \n",
    "          'hidden_layer_sizes':[(100,100,100,100,100,100,100,100,100,100,100,100,100,100,100,100,100,100,100,100)\n",
    "                                ,(100,100,100,100,100,100,100,100,100,100,100,100,100,100,100,100,100,100,100,100,100,100,100,100,100,100,100,100,100,100,100,100,100,100,100,100,100,100,100,100)\n",
    "                               ]}"
   ]
  },
  {
   "cell_type": "code",
   "execution_count": 176,
   "metadata": {
    "collapsed": true
   },
   "outputs": [],
   "source": [
    "params = {'max_iter' :[500], \n",
    "          'hidden_layer_sizes':[(100,100,100,100,100,100,100,100,100,100,100,100,100,100,100,100,100,100,100,100,100,100,100,100,100,100,100,100,100,100,100,100,100,100,100,100,100,100,100,100)\n",
    "                                ,(100,100,100,100,100,100,100,100,100,100,100,100,100,100,100,100,100,100,100,100,100,100,100,100,100,100,100,100,100,100,100,100,100,100,100,100,100,100,100,100,100,100,100,100,100,100,100,100,100,100,100,100,100,100,100,100,100,100,100,100,100,100,100,100,100,100,100,100,100,100,100,100,100,100,100,100,100,100,100,100)\n",
    "                               ]}"
   ]
  },
  {
   "cell_type": "code",
   "execution_count": 177,
   "metadata": {
    "collapsed": true
   },
   "outputs": [],
   "source": [
    "nn = MLPRegressor()"
   ]
  },
  {
   "cell_type": "code",
   "execution_count": 178,
   "metadata": {
    "collapsed": true
   },
   "outputs": [],
   "source": [
    "gcv = GridSearchCV(nn, param_grid=params, n_jobs=-1, scoring='r2')"
   ]
  },
  {
   "cell_type": "code",
   "execution_count": 179,
   "metadata": {},
   "outputs": [
    {
     "data": {
      "text/plain": [
       "GridSearchCV(cv=None, error_score='raise',\n",
       "       estimator=MLPRegressor(activation='relu', alpha=0.0001, batch_size='auto', beta_1=0.9,\n",
       "       beta_2=0.999, early_stopping=False, epsilon=1e-08,\n",
       "       hidden_layer_sizes=(100,), learning_rate='constant',\n",
       "       learning_rate_init=0.001, max_iter=200, momentum=0.9,\n",
       "       nesterovs_momentum=True, power_t=0.5, random_state=None,\n",
       "       shuffle=True, solver='adam', tol=0.0001, validation_fraction=0.1,\n",
       "       verbose=False, warm_start=False),\n",
       "       fit_params={}, iid=True, n_jobs=-1,\n",
       "       param_grid={'max_iter': [500], 'hidden_layer_sizes': [(100, 100, 100, 100, 100, 100, 100, 100, 100, 100, 100, 100, 100, 100, 100, 100, 100, 100, 100, 100, 100, 100, 100, 100, 100, 100, 100, 100, 100, 100, 100, 100, 100, 100, 100, 100, 100, 100, 100, 100), (100, 100, 100, 100, 100, 100, 100, 100, 100...00, 100, 100, 100, 100, 100, 100, 100, 100, 100, 100, 100, 100, 100, 100, 100, 100, 100, 100, 100)]},\n",
       "       pre_dispatch='2*n_jobs', refit=True, scoring='r2', verbose=0)"
      ]
     },
     "execution_count": 179,
     "metadata": {},
     "output_type": "execute_result"
    }
   ],
   "source": [
    "gcv.fit(X_train, y_train)"
   ]
  },
  {
   "cell_type": "code",
   "execution_count": 181,
   "metadata": {},
   "outputs": [
    {
     "data": {
      "text/plain": [
       "-0.0057676490004221585"
      ]
     },
     "execution_count": 181,
     "metadata": {},
     "output_type": "execute_result"
    }
   ],
   "source": [
    "gcv.best_score_"
   ]
  },
  {
   "cell_type": "markdown",
   "metadata": {},
   "source": [
    "### チューニングしたパラメータでモデルを作る"
   ]
  },
  {
   "cell_type": "code",
   "execution_count": 182,
   "metadata": {
    "collapsed": true
   },
   "outputs": [],
   "source": [
    "nn = MLPRegressor(max_iter=500, hidden_layer_sizes=(100,100,100,100,100,100,100,100,100,100,100,100,100,100,100,100,100,100,100,100,100,100,100,100,100,100,100,100,100,100,100,100,100,100,100,100,100,100,100,100), )"
   ]
  },
  {
   "cell_type": "code",
   "execution_count": 183,
   "metadata": {
    "scrolled": false
   },
   "outputs": [
    {
     "data": {
      "text/plain": [
       "MLPRegressor(activation='relu', alpha=0.0001, batch_size='auto', beta_1=0.9,\n",
       "       beta_2=0.999, early_stopping=False, epsilon=1e-08,\n",
       "       hidden_layer_sizes=(100, 100, 100, 100, 100, 100, 100, 100, 100, 100, 100, 100, 100, 100, 100, 100, 100, 100, 100, 100, 100, 100, 100, 100, 100, 100, 100, 100, 100, 100, 100, 100, 100, 100, 100, 100, 100, 100, 100, 100),\n",
       "       learning_rate='constant', learning_rate_init=0.001, max_iter=500,\n",
       "       momentum=0.9, nesterovs_momentum=True, power_t=0.5,\n",
       "       random_state=None, shuffle=True, solver='adam', tol=0.0001,\n",
       "       validation_fraction=0.1, verbose=False, warm_start=False)"
      ]
     },
     "execution_count": 183,
     "metadata": {},
     "output_type": "execute_result"
    }
   ],
   "source": [
    "nn.fit(X_train, y_train)"
   ]
  },
  {
   "cell_type": "markdown",
   "metadata": {},
   "source": [
    "### 予測"
   ]
  },
  {
   "cell_type": "code",
   "execution_count": 184,
   "metadata": {
    "collapsed": true
   },
   "outputs": [],
   "source": [
    "y_pred = nn.predict(X_test)"
   ]
  },
  {
   "cell_type": "markdown",
   "metadata": {},
   "source": [
    "### モデルの性能評価"
   ]
  },
  {
   "cell_type": "markdown",
   "metadata": {},
   "source": [
    "RMSE"
   ]
  },
  {
   "cell_type": "code",
   "execution_count": 185,
   "metadata": {},
   "outputs": [
    {
     "name": "stdout",
     "output_type": "stream",
     "text": [
      "Root Means Square: 0.299907995829\n"
     ]
    }
   ],
   "source": [
    "print(\"Root Means Square:\", np.sqrt(mean_squared_error(y_true=y_test, y_pred=y_pred)))"
   ]
  },
  {
   "cell_type": "markdown",
   "metadata": {},
   "source": [
    "## 機械学習モデルを作る - Gradient Boosting"
   ]
  },
  {
   "cell_type": "code",
   "execution_count": 186,
   "metadata": {
    "collapsed": true
   },
   "outputs": [],
   "source": [
    "from sklearn.ensemble import GradientBoostingRegressor"
   ]
  },
  {
   "cell_type": "code",
   "execution_count": 187,
   "metadata": {
    "collapsed": true
   },
   "outputs": [],
   "source": [
    "params = {'n_estimators' :[100, 300, 500, 1000], 'learning_rate':[0.01, 0.05, 0.1]}"
   ]
  },
  {
   "cell_type": "code",
   "execution_count": 190,
   "metadata": {
    "collapsed": true
   },
   "outputs": [],
   "source": [
    "params = {'n_estimators' :[5000,10000], 'learning_rate':[0.001,0.005]}"
   ]
  },
  {
   "cell_type": "code",
   "execution_count": 191,
   "metadata": {
    "collapsed": true
   },
   "outputs": [],
   "source": [
    "params = {'n_estimators' :[5000], 'learning_rate':[0.005], \n",
    "          'min_samples_leaf':[1, 3, 5], 'min_samples_split':[2, 4, 8], 'max_depth':[3, 5]}"
   ]
  },
  {
   "cell_type": "code",
   "execution_count": 192,
   "metadata": {
    "collapsed": true
   },
   "outputs": [],
   "source": [
    "params = {'n_estimators' :[5000], 'learning_rate':[0.005], \n",
    "          'min_samples_leaf':[1], 'min_samples_split':[2], 'max_depth':[5],'max_features':['sqrt', None]}"
   ]
  },
  {
   "cell_type": "code",
   "execution_count": 193,
   "metadata": {
    "collapsed": true
   },
   "outputs": [],
   "source": [
    "params = {'n_estimators' :[1000,2000,5000], 'learning_rate':[0.005,0.01], \n",
    "          'min_samples_leaf':[1, 3, 5], 'min_samples_split':[2, 4, 8], 'max_depth':[3, 5],'max_features':['sqrt', None]}"
   ]
  },
  {
   "cell_type": "code",
   "execution_count": 194,
   "metadata": {
    "collapsed": true
   },
   "outputs": [],
   "source": [
    "gra = GradientBoostingRegressor()"
   ]
  },
  {
   "cell_type": "code",
   "execution_count": 195,
   "metadata": {
    "collapsed": true
   },
   "outputs": [],
   "source": [
    "gcv = GridSearchCV(gra, param_grid=params, n_jobs=-1, scoring='r2')"
   ]
  },
  {
   "cell_type": "code",
   "execution_count": 196,
   "metadata": {},
   "outputs": [
    {
     "data": {
      "text/plain": [
       "GridSearchCV(cv=None, error_score='raise',\n",
       "       estimator=GradientBoostingRegressor(alpha=0.9, criterion='friedman_mse', init=None,\n",
       "             learning_rate=0.1, loss='ls', max_depth=3, max_features=None,\n",
       "             max_leaf_nodes=None, min_impurity_decrease=0.0,\n",
       "             min_impurity_split=None, min_samples_leaf=1,\n",
       "             min_samples_split=2, min_weight_fraction_leaf=0.0,\n",
       "             n_estimators=100, presort='auto', random_state=None,\n",
       "             subsample=1.0, verbose=0, warm_start=False),\n",
       "       fit_params={}, iid=True, n_jobs=-1,\n",
       "       param_grid={'n_estimators': [1000, 2000, 5000], 'learning_rate': [0.005, 0.01], 'min_samples_leaf': [1, 3, 5], 'min_samples_split': [2, 4, 8], 'max_depth': [3, 5], 'max_features': ['sqrt', None]},\n",
       "       pre_dispatch='2*n_jobs', refit=True, scoring='r2', verbose=0)"
      ]
     },
     "execution_count": 196,
     "metadata": {},
     "output_type": "execute_result"
    }
   ],
   "source": [
    "gcv.fit(X_train[:, selected_feature_index], y_train)"
   ]
  },
  {
   "cell_type": "code",
   "execution_count": 197,
   "metadata": {},
   "outputs": [
    {
     "data": {
      "text/plain": [
       "{'learning_rate': 0.005,\n",
       " 'max_depth': 3,\n",
       " 'max_features': 'sqrt',\n",
       " 'min_samples_leaf': 3,\n",
       " 'min_samples_split': 4,\n",
       " 'n_estimators': 5000}"
      ]
     },
     "execution_count": 197,
     "metadata": {},
     "output_type": "execute_result"
    }
   ],
   "source": [
    "gcv.best_params_"
   ]
  },
  {
   "cell_type": "code",
   "execution_count": 198,
   "metadata": {},
   "outputs": [
    {
     "data": {
      "text/plain": [
       "0.8671931309387949"
      ]
     },
     "execution_count": 198,
     "metadata": {},
     "output_type": "execute_result"
    }
   ],
   "source": [
    "gcv.best_score_"
   ]
  },
  {
   "cell_type": "markdown",
   "metadata": {},
   "source": [
    "### チューニングしたパラメータでモデルを作る"
   ]
  },
  {
   "cell_type": "code",
   "execution_count": 199,
   "metadata": {
    "collapsed": true
   },
   "outputs": [],
   "source": [
    "gra = GradientBoostingRegressor(learning_rate=0.005,\n",
    "                                max_depth=3,\n",
    "                                max_features='sqrt',\n",
    "                                min_samples_leaf=1,\n",
    "                                min_samples_split=8,\n",
    "                                n_estimators=2000 )"
   ]
  },
  {
   "cell_type": "code",
   "execution_count": 200,
   "metadata": {
    "scrolled": false
   },
   "outputs": [
    {
     "data": {
      "text/plain": [
       "GradientBoostingRegressor(alpha=0.9, criterion='friedman_mse', init=None,\n",
       "             learning_rate=0.005, loss='ls', max_depth=3,\n",
       "             max_features='sqrt', max_leaf_nodes=None,\n",
       "             min_impurity_decrease=0.0, min_impurity_split=None,\n",
       "             min_samples_leaf=1, min_samples_split=8,\n",
       "             min_weight_fraction_leaf=0.0, n_estimators=2000,\n",
       "             presort='auto', random_state=None, subsample=1.0, verbose=0,\n",
       "             warm_start=False)"
      ]
     },
     "execution_count": 200,
     "metadata": {},
     "output_type": "execute_result"
    }
   ],
   "source": [
    "gra.fit(X_train[:, selected_feature_index], y_train)"
   ]
  },
  {
   "cell_type": "markdown",
   "metadata": {},
   "source": [
    "### 予測"
   ]
  },
  {
   "cell_type": "code",
   "execution_count": 201,
   "metadata": {
    "collapsed": true
   },
   "outputs": [],
   "source": [
    "y_pred = gra.predict(X_test[:, selected_feature_index])"
   ]
  },
  {
   "cell_type": "markdown",
   "metadata": {},
   "source": [
    "### モデルの性能評価"
   ]
  },
  {
   "cell_type": "markdown",
   "metadata": {},
   "source": [
    "RMSE"
   ]
  },
  {
   "cell_type": "code",
   "execution_count": 202,
   "metadata": {},
   "outputs": [
    {
     "name": "stdout",
     "output_type": "stream",
     "text": [
      "Root Means Square: 0.151389272602\n"
     ]
    }
   ],
   "source": [
    "print(\"Root Means Square:\", np.sqrt(mean_squared_error(y_true=y_test, y_pred=y_pred)))"
   ]
  },
  {
   "cell_type": "markdown",
   "metadata": {},
   "source": [
    "## 機械学習モデルを作る - ElasticNet"
   ]
  },
  {
   "cell_type": "code",
   "execution_count": 203,
   "metadata": {
    "collapsed": true
   },
   "outputs": [],
   "source": [
    "from sklearn.linear_model import ElasticNetCV"
   ]
  },
  {
   "cell_type": "code",
   "execution_count": 204,
   "metadata": {
    "collapsed": true
   },
   "outputs": [],
   "source": [
    "params = {'n_alphas':[50,100,300], 'l1_ratio':[0.1, 0.5, 1, 5], 'max_iter':[1000, 2000, 3000]}"
   ]
  },
  {
   "cell_type": "code",
   "execution_count": 205,
   "metadata": {
    "collapsed": true
   },
   "outputs": [],
   "source": [
    "params = {'n_alphas':[10,30,50], 'l1_ratio':[50,100,300], 'max_iter':[1000,3000,5000]}"
   ]
  },
  {
   "cell_type": "code",
   "execution_count": 206,
   "metadata": {
    "collapsed": true
   },
   "outputs": [],
   "source": [
    "params = {'n_alphas':[3,5,10], 'l1_ratio':[300,500,1000], 'max_iter':[300,500,1000]}"
   ]
  },
  {
   "cell_type": "code",
   "execution_count": 207,
   "metadata": {
    "collapsed": true
   },
   "outputs": [],
   "source": [
    "params = {'n_alphas':[1,3], 'l1_ratio':[100,300,500], 'max_iter':[500,1000,2000]}"
   ]
  },
  {
   "cell_type": "code",
   "execution_count": 208,
   "metadata": {
    "collapsed": true
   },
   "outputs": [],
   "source": [
    "en = ElasticNetCV()"
   ]
  },
  {
   "cell_type": "code",
   "execution_count": 209,
   "metadata": {
    "collapsed": true
   },
   "outputs": [],
   "source": [
    "gcv = GridSearchCV(en, param_grid=params, n_jobs=-1, scoring='r2')"
   ]
  },
  {
   "cell_type": "code",
   "execution_count": 210,
   "metadata": {},
   "outputs": [
    {
     "name": "stderr",
     "output_type": "stream",
     "text": [
      "/Users/shota/anaconda3/lib/python3.6/site-packages/sklearn/linear_model/coordinate_descent.py:491: ConvergenceWarning: Objective did not converge. You might want to increase the number of iterations. Fitting data with very small alpha may cause precision problems.\n",
      "  ConvergenceWarning)\n",
      "/Users/shota/anaconda3/lib/python3.6/site-packages/sklearn/linear_model/coordinate_descent.py:491: ConvergenceWarning: Objective did not converge. You might want to increase the number of iterations. Fitting data with very small alpha may cause precision problems.\n",
      "  ConvergenceWarning)\n",
      "/Users/shota/anaconda3/lib/python3.6/site-packages/sklearn/linear_model/coordinate_descent.py:491: ConvergenceWarning: Objective did not converge. You might want to increase the number of iterations. Fitting data with very small alpha may cause precision problems.\n",
      "  ConvergenceWarning)\n",
      "/Users/shota/anaconda3/lib/python3.6/site-packages/sklearn/linear_model/coordinate_descent.py:491: ConvergenceWarning: Objective did not converge. You might want to increase the number of iterations. Fitting data with very small alpha may cause precision problems.\n",
      "  ConvergenceWarning)\n",
      "/Users/shota/anaconda3/lib/python3.6/site-packages/sklearn/linear_model/coordinate_descent.py:491: ConvergenceWarning: Objective did not converge. You might want to increase the number of iterations. Fitting data with very small alpha may cause precision problems.\n",
      "  ConvergenceWarning)\n",
      "/Users/shota/anaconda3/lib/python3.6/site-packages/sklearn/linear_model/coordinate_descent.py:491: ConvergenceWarning: Objective did not converge. You might want to increase the number of iterations. Fitting data with very small alpha may cause precision problems.\n",
      "  ConvergenceWarning)\n",
      "/Users/shota/anaconda3/lib/python3.6/site-packages/sklearn/linear_model/coordinate_descent.py:491: ConvergenceWarning: Objective did not converge. You might want to increase the number of iterations. Fitting data with very small alpha may cause precision problems.\n",
      "  ConvergenceWarning)\n",
      "/Users/shota/anaconda3/lib/python3.6/site-packages/sklearn/linear_model/coordinate_descent.py:491: ConvergenceWarning: Objective did not converge. You might want to increase the number of iterations. Fitting data with very small alpha may cause precision problems.\n",
      "  ConvergenceWarning)\n",
      "/Users/shota/anaconda3/lib/python3.6/site-packages/sklearn/linear_model/coordinate_descent.py:491: ConvergenceWarning: Objective did not converge. You might want to increase the number of iterations. Fitting data with very small alpha may cause precision problems.\n",
      "  ConvergenceWarning)\n",
      "/Users/shota/anaconda3/lib/python3.6/site-packages/sklearn/linear_model/coordinate_descent.py:491: ConvergenceWarning: Objective did not converge. You might want to increase the number of iterations. Fitting data with very small alpha may cause precision problems.\n",
      "  ConvergenceWarning)\n",
      "/Users/shota/anaconda3/lib/python3.6/site-packages/sklearn/linear_model/coordinate_descent.py:491: ConvergenceWarning: Objective did not converge. You might want to increase the number of iterations. Fitting data with very small alpha may cause precision problems.\n",
      "  ConvergenceWarning)\n",
      "/Users/shota/anaconda3/lib/python3.6/site-packages/sklearn/linear_model/coordinate_descent.py:491: ConvergenceWarning: Objective did not converge. You might want to increase the number of iterations. Fitting data with very small alpha may cause precision problems.\n",
      "  ConvergenceWarning)\n",
      "/Users/shota/anaconda3/lib/python3.6/site-packages/sklearn/linear_model/coordinate_descent.py:491: ConvergenceWarning: Objective did not converge. You might want to increase the number of iterations. Fitting data with very small alpha may cause precision problems.\n",
      "  ConvergenceWarning)\n",
      "/Users/shota/anaconda3/lib/python3.6/site-packages/sklearn/linear_model/coordinate_descent.py:491: ConvergenceWarning: Objective did not converge. You might want to increase the number of iterations. Fitting data with very small alpha may cause precision problems.\n",
      "  ConvergenceWarning)\n",
      "/Users/shota/anaconda3/lib/python3.6/site-packages/sklearn/linear_model/coordinate_descent.py:491: ConvergenceWarning: Objective did not converge. You might want to increase the number of iterations. Fitting data with very small alpha may cause precision problems.\n",
      "  ConvergenceWarning)\n",
      "/Users/shota/anaconda3/lib/python3.6/site-packages/sklearn/linear_model/coordinate_descent.py:491: ConvergenceWarning: Objective did not converge. You might want to increase the number of iterations. Fitting data with very small alpha may cause precision problems.\n",
      "  ConvergenceWarning)\n",
      "/Users/shota/anaconda3/lib/python3.6/site-packages/sklearn/linear_model/coordinate_descent.py:491: ConvergenceWarning: Objective did not converge. You might want to increase the number of iterations. Fitting data with very small alpha may cause precision problems.\n",
      "  ConvergenceWarning)\n",
      "/Users/shota/anaconda3/lib/python3.6/site-packages/sklearn/linear_model/coordinate_descent.py:491: ConvergenceWarning: Objective did not converge. You might want to increase the number of iterations. Fitting data with very small alpha may cause precision problems.\n",
      "  ConvergenceWarning)\n",
      "/Users/shota/anaconda3/lib/python3.6/site-packages/sklearn/linear_model/coordinate_descent.py:491: ConvergenceWarning: Objective did not converge. You might want to increase the number of iterations. Fitting data with very small alpha may cause precision problems.\n",
      "  ConvergenceWarning)\n",
      "/Users/shota/anaconda3/lib/python3.6/site-packages/sklearn/linear_model/coordinate_descent.py:491: ConvergenceWarning: Objective did not converge. You might want to increase the number of iterations. Fitting data with very small alpha may cause precision problems.\n",
      "  ConvergenceWarning)\n",
      "/Users/shota/anaconda3/lib/python3.6/site-packages/sklearn/linear_model/coordinate_descent.py:491: ConvergenceWarning: Objective did not converge. You might want to increase the number of iterations. Fitting data with very small alpha may cause precision problems.\n",
      "  ConvergenceWarning)\n",
      "/Users/shota/anaconda3/lib/python3.6/site-packages/sklearn/linear_model/coordinate_descent.py:491: ConvergenceWarning: Objective did not converge. You might want to increase the number of iterations. Fitting data with very small alpha may cause precision problems.\n",
      "  ConvergenceWarning)\n",
      "/Users/shota/anaconda3/lib/python3.6/site-packages/sklearn/linear_model/coordinate_descent.py:491: ConvergenceWarning: Objective did not converge. You might want to increase the number of iterations. Fitting data with very small alpha may cause precision problems.\n",
      "  ConvergenceWarning)\n",
      "/Users/shota/anaconda3/lib/python3.6/site-packages/sklearn/linear_model/coordinate_descent.py:491: ConvergenceWarning: Objective did not converge. You might want to increase the number of iterations. Fitting data with very small alpha may cause precision problems.\n",
      "  ConvergenceWarning)\n",
      "/Users/shota/anaconda3/lib/python3.6/site-packages/sklearn/linear_model/coordinate_descent.py:491: ConvergenceWarning: Objective did not converge. You might want to increase the number of iterations. Fitting data with very small alpha may cause precision problems.\n",
      "  ConvergenceWarning)\n",
      "/Users/shota/anaconda3/lib/python3.6/site-packages/sklearn/linear_model/coordinate_descent.py:491: ConvergenceWarning: Objective did not converge. You might want to increase the number of iterations. Fitting data with very small alpha may cause precision problems.\n",
      "  ConvergenceWarning)\n",
      "/Users/shota/anaconda3/lib/python3.6/site-packages/sklearn/linear_model/coordinate_descent.py:491: ConvergenceWarning: Objective did not converge. You might want to increase the number of iterations. Fitting data with very small alpha may cause precision problems.\n",
      "  ConvergenceWarning)\n",
      "/Users/shota/anaconda3/lib/python3.6/site-packages/sklearn/linear_model/coordinate_descent.py:491: ConvergenceWarning: Objective did not converge. You might want to increase the number of iterations. Fitting data with very small alpha may cause precision problems.\n",
      "  ConvergenceWarning)\n",
      "/Users/shota/anaconda3/lib/python3.6/site-packages/sklearn/linear_model/coordinate_descent.py:491: ConvergenceWarning: Objective did not converge. You might want to increase the number of iterations. Fitting data with very small alpha may cause precision problems.\n",
      "  ConvergenceWarning)\n"
     ]
    },
    {
     "name": "stderr",
     "output_type": "stream",
     "text": [
      "/Users/shota/anaconda3/lib/python3.6/site-packages/sklearn/linear_model/coordinate_descent.py:491: ConvergenceWarning: Objective did not converge. You might want to increase the number of iterations. Fitting data with very small alpha may cause precision problems.\n",
      "  ConvergenceWarning)\n",
      "/Users/shota/anaconda3/lib/python3.6/site-packages/sklearn/linear_model/coordinate_descent.py:491: ConvergenceWarning: Objective did not converge. You might want to increase the number of iterations. Fitting data with very small alpha may cause precision problems.\n",
      "  ConvergenceWarning)\n",
      "/Users/shota/anaconda3/lib/python3.6/site-packages/sklearn/linear_model/coordinate_descent.py:491: ConvergenceWarning: Objective did not converge. You might want to increase the number of iterations. Fitting data with very small alpha may cause precision problems.\n",
      "  ConvergenceWarning)\n",
      "/Users/shota/anaconda3/lib/python3.6/site-packages/sklearn/linear_model/coordinate_descent.py:491: ConvergenceWarning: Objective did not converge. You might want to increase the number of iterations. Fitting data with very small alpha may cause precision problems.\n",
      "  ConvergenceWarning)\n",
      "/Users/shota/anaconda3/lib/python3.6/site-packages/sklearn/linear_model/coordinate_descent.py:491: ConvergenceWarning: Objective did not converge. You might want to increase the number of iterations. Fitting data with very small alpha may cause precision problems.\n",
      "  ConvergenceWarning)\n",
      "/Users/shota/anaconda3/lib/python3.6/site-packages/sklearn/linear_model/coordinate_descent.py:491: ConvergenceWarning: Objective did not converge. You might want to increase the number of iterations. Fitting data with very small alpha may cause precision problems.\n",
      "  ConvergenceWarning)\n",
      "/Users/shota/anaconda3/lib/python3.6/site-packages/sklearn/linear_model/coordinate_descent.py:491: ConvergenceWarning: Objective did not converge. You might want to increase the number of iterations. Fitting data with very small alpha may cause precision problems.\n",
      "  ConvergenceWarning)\n",
      "/Users/shota/anaconda3/lib/python3.6/site-packages/sklearn/linear_model/coordinate_descent.py:491: ConvergenceWarning: Objective did not converge. You might want to increase the number of iterations. Fitting data with very small alpha may cause precision problems.\n",
      "  ConvergenceWarning)\n"
     ]
    },
    {
     "data": {
      "text/plain": [
       "GridSearchCV(cv=None, error_score='raise',\n",
       "       estimator=ElasticNetCV(alphas=None, copy_X=True, cv=None, eps=0.001, fit_intercept=True,\n",
       "       l1_ratio=0.5, max_iter=1000, n_alphas=100, n_jobs=1,\n",
       "       normalize=False, positive=False, precompute='auto',\n",
       "       random_state=None, selection='cyclic', tol=0.0001, verbose=0),\n",
       "       fit_params={}, iid=True, n_jobs=-1,\n",
       "       param_grid={'n_alphas': [1, 3], 'l1_ratio': [100, 300, 500], 'max_iter': [500, 1000, 2000]},\n",
       "       pre_dispatch='2*n_jobs', refit=True, scoring='r2', verbose=0)"
      ]
     },
     "execution_count": 210,
     "metadata": {},
     "output_type": "execute_result"
    }
   ],
   "source": [
    "gcv.fit(X_train, y_train)"
   ]
  },
  {
   "cell_type": "code",
   "execution_count": 211,
   "metadata": {},
   "outputs": [
    {
     "data": {
      "text/plain": [
       "{'l1_ratio': 500, 'max_iter': 500, 'n_alphas': 1}"
      ]
     },
     "execution_count": 211,
     "metadata": {},
     "output_type": "execute_result"
    }
   ],
   "source": [
    "gcv.best_params_"
   ]
  },
  {
   "cell_type": "code",
   "execution_count": 212,
   "metadata": {},
   "outputs": [
    {
     "data": {
      "text/plain": [
       "0.6565130272373845"
      ]
     },
     "execution_count": 212,
     "metadata": {},
     "output_type": "execute_result"
    }
   ],
   "source": [
    "gcv.best_score_"
   ]
  },
  {
   "cell_type": "markdown",
   "metadata": {},
   "source": [
    "### チューニングしたパラメータでモデルを作る"
   ]
  },
  {
   "cell_type": "code",
   "execution_count": 213,
   "metadata": {
    "collapsed": true
   },
   "outputs": [],
   "source": [
    "en = ElasticNetCV(l1_ratio=500, max_iter=500, n_alphas=1)"
   ]
  },
  {
   "cell_type": "code",
   "execution_count": 214,
   "metadata": {
    "scrolled": false
   },
   "outputs": [
    {
     "data": {
      "text/plain": [
       "ElasticNetCV(alphas=None, copy_X=True, cv=None, eps=0.001, fit_intercept=True,\n",
       "       l1_ratio=500, max_iter=500, n_alphas=1, n_jobs=1, normalize=False,\n",
       "       positive=False, precompute='auto', random_state=None,\n",
       "       selection='cyclic', tol=0.0001, verbose=0)"
      ]
     },
     "execution_count": 214,
     "metadata": {},
     "output_type": "execute_result"
    }
   ],
   "source": [
    "en.fit(X_train[:, selected_feature_index], y_train)"
   ]
  },
  {
   "cell_type": "markdown",
   "metadata": {},
   "source": [
    "### 予測"
   ]
  },
  {
   "cell_type": "code",
   "execution_count": 215,
   "metadata": {
    "collapsed": true
   },
   "outputs": [],
   "source": [
    "y_pred = en.predict(X_test[:, selected_feature_index])"
   ]
  },
  {
   "cell_type": "markdown",
   "metadata": {},
   "source": [
    "### モデルの性能評価"
   ]
  },
  {
   "cell_type": "markdown",
   "metadata": {},
   "source": [
    "RMSE"
   ]
  },
  {
   "cell_type": "code",
   "execution_count": 216,
   "metadata": {},
   "outputs": [
    {
     "name": "stdout",
     "output_type": "stream",
     "text": [
      "Root Means Square: 0.207502026232\n"
     ]
    }
   ],
   "source": [
    "print(\"Root Means Square:\", np.sqrt(mean_squared_error(y_true=y_test, y_pred=y_pred)))"
   ]
  },
  {
   "cell_type": "markdown",
   "metadata": {
    "collapsed": true
   },
   "source": [
    "## 誤差チェック"
   ]
  },
  {
   "cell_type": "code",
   "execution_count": 217,
   "metadata": {},
   "outputs": [
    {
     "data": {
      "text/plain": [
       "<matplotlib.collections.PathCollection at 0x1a115347b8>"
      ]
     },
     "execution_count": 217,
     "metadata": {},
     "output_type": "execute_result"
    },
    {
     "data": {
      "image/png": "[encoded data removed]",
      "text/plain": [
       "<matplotlib.figure.Figure at 0x1a1e7a0fd0>"
      ]
     },
     "metadata": {},
     "output_type": "display_data"
    }
   ],
   "source": [
    "plt.scatter(y_test, y_pred)"
   ]
  },
  {
   "cell_type": "code",
   "execution_count": 218,
   "metadata": {},
   "outputs": [
    {
     "name": "stdout",
     "output_type": "stream",
     "text": [
      "Mean:  0.000303947785091\n",
      "Std:  0.0177820072639\n"
     ]
    },
    {
     "data": {
      "image/png": "[encoded data removed]",
      "text/plain": [
       "<matplotlib.figure.Figure at 0x1a1e7a06d8>"
      ]
     },
     "metadata": {},
     "output_type": "display_data"
    }
   ],
   "source": [
    "error_rate = (y_test - y_pred) / y_test\n",
    "plt.hist(error_rate)\n",
    "print('Mean: ', np.mean(error_rate))\n",
    "print('Std: ', np.std(error_rate))"
   ]
  },
  {
   "cell_type": "code",
   "execution_count": 219,
   "metadata": {
    "collapsed": true
   },
   "outputs": [],
   "source": [
    "#y_pred"
   ]
  },
  {
   "cell_type": "markdown",
   "metadata": {},
   "source": [
    "## SUBMIT"
   ]
  },
  {
   "cell_type": "code",
   "execution_count": 220,
   "metadata": {
    "collapsed": true
   },
   "outputs": [],
   "source": [
    "X = np.array(test_data[new_feature_cols])"
   ]
  },
  {
   "cell_type": "code",
   "execution_count": 221,
   "metadata": {
    "collapsed": true
   },
   "outputs": [],
   "source": [
    "X = X[:, selected_feature_index]"
   ]
  },
  {
   "cell_type": "code",
   "execution_count": 222,
   "metadata": {
    "collapsed": true
   },
   "outputs": [],
   "source": [
    "#ypred = rf.predict(X)\n",
    "ypred = gra.predict(X)"
   ]
  },
  {
   "cell_type": "code",
   "execution_count": 223,
   "metadata": {
    "collapsed": true
   },
   "outputs": [],
   "source": [
    "ypred = np.exp(ypred)"
   ]
  },
  {
   "cell_type": "code",
   "execution_count": 225,
   "metadata": {
    "collapsed": true
   },
   "outputs": [],
   "source": [
    "submission = pd.DataFrame({\n",
    "        \"Id\": test_ID,\n",
    "        \"SalePrice\": ypred\n",
    "    })\n",
    "submission.to_csv('house.csv', index=False)"
   ]
  },
  {
   "cell_type": "code",
   "execution_count": null,
   "metadata": {
    "collapsed": true
   },
   "outputs": [],
   "source": []
  },
  {
   "cell_type": "code",
   "execution_count": null,
   "metadata": {
    "collapsed": true
   },
   "outputs": [],
   "source": [
    "#TEST:２つのモデルの予測結果の平均\n",
    "model_01_pred = gra.predict(X_test[:, selected_feature_index])\n",
    "model_02_pred = rf.predict(X_test[:, selected_feature_index])"
   ]
  },
  {
   "cell_type": "code",
   "execution_count": null,
   "metadata": {
    "collapsed": true
   },
   "outputs": [],
   "source": [
    "y_pred = (model_01_pred + model_02_pred) / 2"
   ]
  },
  {
   "cell_type": "code",
   "execution_count": null,
   "metadata": {
    "collapsed": true
   },
   "outputs": [],
   "source": [
    "print(\"Root Means Square:\", np.sqrt(mean_squared_error(y_true=y_test, y_pred=y_pred)))"
   ]
  },
  {
   "cell_type": "code",
   "execution_count": null,
   "metadata": {
    "collapsed": true
   },
   "outputs": [],
   "source": [
    "y_pred = (np.exp(model_01_pred) + np.exp(model_02_pred)) / 2"
   ]
  },
  {
   "cell_type": "code",
   "execution_count": null,
   "metadata": {
    "collapsed": true
   },
   "outputs": [],
   "source": [
    "submission = pd.DataFrame({\n",
    "        \"Id\": test_ID,\n",
    "        \"SalePrice\": ypred\n",
    "    })\n",
    "submission.to_csv('house.csv', index=False)"
   ]
  }
 ],
 "metadata": {
  "kernelspec": {
   "display_name": "Python 3",
   "language": "python",
   "name": "python3"
  },
  "language_info": {
   "codemirror_mode": {
    "name": "ipython",
    "version": 3
   },
   "file_extension": ".py",
   "mimetype": "text/x-python",
   "name": "python",
   "nbconvert_exporter": "python",
   "pygments_lexer": "ipython3",
   "version": "3.6.3"
  }
 },
 "nbformat": 4,
 "nbformat_minor": 1
}
